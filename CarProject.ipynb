{
  "nbformat": 4,
  "nbformat_minor": 0,
  "metadata": {
    "colab": {
      "provenance": []
    },
    "kernelspec": {
      "name": "python3",
      "display_name": "Python 3"
    },
    "language_info": {
      "name": "python"
    },
    "gpuClass": "standard",
    "accelerator": "GPU"
  },
  "cells": [
    {
      "cell_type": "code",
      "execution_count": null,
      "metadata": {
        "colab": {
          "base_uri": "https://localhost:8080/"
        },
        "id": "dOmMSq4hP_ip",
        "outputId": "1e642b76-df25-491c-bf43-0f9078c6cb5c"
      },
      "outputs": [
        {
          "output_type": "stream",
          "name": "stdout",
          "text": [
            "Looking in indexes: https://pypi.org/simple, https://us-python.pkg.dev/colab-wheels/public/simple/\n",
            "Collecting pyspark\n",
            "  Downloading pyspark-3.4.0.tar.gz (310.8 MB)\n",
            "\u001b[2K     \u001b[90m━━━━━━━━━━━━━━━━━━━━━━━━━━━━━━━━━━━━━━━\u001b[0m \u001b[32m310.8/310.8 MB\u001b[0m \u001b[31m4.2 MB/s\u001b[0m eta \u001b[36m0:00:00\u001b[0m\n",
            "\u001b[?25h  Preparing metadata (setup.py) ... \u001b[?25l\u001b[?25hdone\n",
            "Requirement already satisfied: py4j==0.10.9.7 in /usr/local/lib/python3.9/dist-packages (from pyspark) (0.10.9.7)\n",
            "Building wheels for collected packages: pyspark\n",
            "  Building wheel for pyspark (setup.py) ... \u001b[?25l\u001b[?25hdone\n",
            "  Created wheel for pyspark: filename=pyspark-3.4.0-py2.py3-none-any.whl size=311317145 sha256=984bca99ad358c427ce5b148a779fe71c8ab7b61a4d3a22c7f3759f98f0f7c75\n",
            "  Stored in directory: /root/.cache/pip/wheels/9f/34/a4/159aa12d0a510d5ff7c8f0220abbea42e5d81ecf588c4fd884\n",
            "Successfully built pyspark\n",
            "Installing collected packages: pyspark\n",
            "Successfully installed pyspark-3.4.0\n"
          ]
        }
      ],
      "source": [
        "!pip install pyspark\n"
      ]
    },
    {
      "cell_type": "markdown",
      "source": [
        "Import Installed Pyspark"
      ],
      "metadata": {
        "id": "eVaFzfcFZUwb"
      }
    },
    {
      "cell_type": "code",
      "source": [
        "import pyspark"
      ],
      "metadata": {
        "id": "DHk9JDQfQFWZ"
      },
      "execution_count": null,
      "outputs": []
    },
    {
      "cell_type": "markdown",
      "source": [],
      "metadata": {
        "id": "iWzXkqyB8LqM"
      }
    },
    {
      "cell_type": "markdown",
      "source": [
        "Import Pysprk Session"
      ],
      "metadata": {
        "id": "nZKDqX68ZSgU"
      }
    },
    {
      "cell_type": "code",
      "source": [
        "from google.colab import drive\n",
        "drive.mount('/content/drive')"
      ],
      "metadata": {
        "id": "CVNCC3l3Xcox",
        "colab": {
          "base_uri": "https://localhost:8080/"
        },
        "outputId": "d6281bdf-8905-489b-b828-78a8b9ca3a08"
      },
      "execution_count": null,
      "outputs": [
        {
          "output_type": "stream",
          "name": "stdout",
          "text": [
            "Drive already mounted at /content/drive; to attempt to forcibly remount, call drive.mount(\"/content/drive\", force_remount=True).\n"
          ]
        }
      ]
    },
    {
      "cell_type": "code",
      "source": [
        "from pyspark.sql import SparkSession"
      ],
      "metadata": {
        "id": "jR_yfxJXZOZs"
      },
      "execution_count": null,
      "outputs": []
    },
    {
      "cell_type": "markdown",
      "source": [
        "Creating Spark And Setting A name for The Application\n"
      ],
      "metadata": {
        "id": "VSoC7vgsagNt"
      }
    },
    {
      "cell_type": "code",
      "source": [
        "spark =SparkSession.builder.appName('Project').getOrCreate()"
      ],
      "metadata": {
        "id": "1dkjGNjEaVhc"
      },
      "execution_count": null,
      "outputs": []
    },
    {
      "cell_type": "code",
      "source": [
        "spark"
      ],
      "metadata": {
        "colab": {
          "base_uri": "https://localhost:8080/",
          "height": 219
        },
        "id": "wP2ugEdja9Ui",
        "outputId": "aa13d0b0-ae3e-4117-b580-c09c3f27c515"
      },
      "execution_count": null,
      "outputs": [
        {
          "output_type": "execute_result",
          "data": {
            "text/plain": [
              "<pyspark.sql.session.SparkSession at 0x7fe9ee34fc10>"
            ],
            "text/html": [
              "\n",
              "            <div>\n",
              "                <p><b>SparkSession - in-memory</b></p>\n",
              "                \n",
              "        <div>\n",
              "            <p><b>SparkContext</b></p>\n",
              "\n",
              "            <p><a href=\"http://10b659e6fffb:4040\">Spark UI</a></p>\n",
              "\n",
              "            <dl>\n",
              "              <dt>Version</dt>\n",
              "                <dd><code>v3.4.0</code></dd>\n",
              "              <dt>Master</dt>\n",
              "                <dd><code>local[*]</code></dd>\n",
              "              <dt>AppName</dt>\n",
              "                <dd><code>Project</code></dd>\n",
              "            </dl>\n",
              "        </div>\n",
              "        \n",
              "            </div>\n",
              "        "
            ]
          },
          "metadata": {},
          "execution_count": 6
        }
      ]
    },
    {
      "cell_type": "markdown",
      "source": [
        "Reading the Data"
      ],
      "metadata": {
        "id": "cLRSCzKUbGyy"
      }
    },
    {
      "cell_type": "code",
      "source": [
        "car= spark.read.csv(r\"/content/drive/MyDrive/Dbda/Car Project /cars_details_merges.csv\", inferSchema= True,header= True)"
      ],
      "metadata": {
        "id": "6ybeNbjWbBua"
      },
      "execution_count": null,
      "outputs": []
    },
    {
      "cell_type": "code",
      "source": [
        "car"
      ],
      "metadata": {
        "colab": {
          "base_uri": "https://localhost:8080/"
        },
        "id": "aIxYyYVabN9n",
        "outputId": "d69bab4a-dfe4-4ae2-c195-f6361b18e587"
      },
      "execution_count": null,
      "outputs": [
        {
          "output_type": "execute_result",
          "data": {
            "text/plain": [
              "DataFrame[position: int, loc: string, myear: int, bt: string, tt: string, ft: string, km: string, ip: int, pi: string, images: string, imgCount: int, threesixty: boolean, dvn: string, oem: string, model: string, modelId: int, vid: string, centralVariantId: int, variantName: string, city_x: string, vlink: string, price: string, pu: string, discountValue: int, msp: int, priceSaving: string, pageNo: int, utype: string, views: int, usedCarId: int, usedCarSkuId: string, ucid: int, sid: string, tmGaadiStore: boolean, emiwidget: string, transmissionType: string, dynx_itemid_x: int, dynx_itemid2_x: int, dynx_totalvalue_x: int, leadForm: int, leadFormCta: string, offers: string, compare: boolean, brandingIcon: string, pageType: string, carType: string, corporateId: int, top_features: string, comfort_features: string, interior_features: string, exterior_features: string, safety_features: string, Color: string, Engine Type: string, Displacement: double, Max Power: string, Max Torque: string, No of Cylinder: double, Values per Cylinder: double, Value Configuration: string, BoreX Stroke: string, Turbo Charger: string, Super Charger: string, Length: string, Width: string, Height: string, Wheel Base: string, Front Tread: string, Rear Tread: string, Kerb Weight: string, Gross Weight: string, Gear Box: string, Drive Type: string, Seating Capacity: double, Steering Type: string, Turning Radius: string, Front Brake Type: string, Rear Brake Type: string, Top Speed: string, Acceleration: string, Tyre Type: string, No Door Numbers: double, Cargo Volumn: string, model_type_new: string, originalLocation: string, page_title: string, compare_car_details: string, seller_type_new: string, seating_capacity_new: double, transmission_type: string, model_year_new: int, car_type_new: string, model_name: string, model_id_new: int, oem_name: string, price_range_segment: string, dealer_id_new: int, state: string, city_id_new: int, fuel_type: string, max_engine_capacity_new: double, transmission_type_new: string, km_driven: int, model_new: string, vehicle_type_new: string, brand_name: string, engine_cc: string, fuel_type_new: string, car_segment: string, used_carid: int, city_name_new: string, page_type: string, city_y: string, engine_capacity_new: string, body_type_new: string, owner_type_new: string, mileage_new: string, dealer_id: int, model_year: int, variant_name: string, price_segment: string, dynx_event: string, dynx_pagetype: string, dynx_itemid_y: int, dynx_itemid2_y: int, dynx_totalvalue_y: int, brand_new: string, variant_new: string, exterior_color: string, min_engine_capacity_new: double, owner_type: string, price_segment_new: string, template_name_new: string, page_template: string, template_Type_new: string, experiment: string, Fuel Suppy System: string, Compression Ratio: string, Alloy Wheel Size: string, Ground Clearance Unladen: string]"
            ]
          },
          "metadata": {},
          "execution_count": 8
        }
      ]
    },
    {
      "cell_type": "code",
      "source": [
        "car.show()\n"
      ],
      "metadata": {
        "colab": {
          "base_uri": "https://localhost:8080/"
        },
        "id": "NKIoHNJIpQiD",
        "outputId": "c815bade-90e4-4741-e160-f048b344be25"
      },
      "execution_count": null,
      "outputs": [
        {
          "output_type": "stream",
          "name": "stdout",
          "text": [
            "+--------+----------------+-----+---------+------+---+--------+---+--------------------+--------------------+--------+----------+--------------------+-------+------------------+-------+--------------------+----------------+--------------------+---------+--------------------+------------+---------+-------------+---+-----------+------+----------+-----+---------+--------------------+-------+--------------------+------------+--------------------+----------------+-------------+--------------+-----------------+--------+-------------------+------+-------+--------------------+--------+---------+-----------+--------------------+--------------------+--------------------+--------------------+--------------------+----------------+--------------------+------------+----------------+---------------+--------------+-------------------+-------------------+--------------+-------------+-------------+-------+-------+-------+----------+-----------+----------+-----------+------------+--------------------+---------------+----------------+-------------+--------------+----------------+---------------+---------+-------------+--------------------+---------------+------------+--------------+----------------+--------------------+-------------------+---------------+--------------------+-----------------+--------------+------------+------------------+------------+--------+-------------------+-------------+-------------+-----------+---------+-----------------------+---------------------+---------+------------------+----------------+----------+-------------+-------------+-----------+----------+-------------+---------------+---------+-------------------+--------------+--------------+-----------+---------+----------+--------------------+-------------+------------------+-------------+-------------+--------------+-----------------+---------+--------------------+----------------+-----------------------+----------+-----------------+--------------------+--------------------+-----------------+----------+--------------------+-----------------+----------------+------------------------+\n",
            "|position|             loc|myear|       bt|    tt| ft|      km| ip|                  pi|              images|imgCount|threesixty|                 dvn|    oem|             model|modelId|                 vid|centralVariantId|         variantName|   city_x|               vlink|       price|       pu|discountValue|msp|priceSaving|pageNo|     utype|views|usedCarId|        usedCarSkuId|   ucid|                 sid|tmGaadiStore|           emiwidget|transmissionType|dynx_itemid_x|dynx_itemid2_x|dynx_totalvalue_x|leadForm|        leadFormCta|offers|compare|        brandingIcon|pageType|  carType|corporateId|        top_features|    comfort_features|   interior_features|   exterior_features|     safety_features|           Color|         Engine Type|Displacement|       Max Power|     Max Torque|No of Cylinder|Values per Cylinder|Value Configuration|  BoreX Stroke|Turbo Charger|Super Charger| Length|  Width| Height|Wheel Base|Front Tread|Rear Tread|Kerb Weight|Gross Weight|            Gear Box|     Drive Type|Seating Capacity|Steering Type|Turning Radius|Front Brake Type|Rear Brake Type|Top Speed| Acceleration|           Tyre Type|No Door Numbers|Cargo Volumn|model_type_new|originalLocation|          page_title|compare_car_details|seller_type_new|seating_capacity_new|transmission_type|model_year_new|car_type_new|        model_name|model_id_new|oem_name|price_range_segment|dealer_id_new|        state|city_id_new|fuel_type|max_engine_capacity_new|transmission_type_new|km_driven|         model_new|vehicle_type_new|brand_name|    engine_cc|fuel_type_new|car_segment|used_carid|city_name_new|      page_type|   city_y|engine_capacity_new| body_type_new|owner_type_new|mileage_new|dealer_id|model_year|        variant_name|price_segment|        dynx_event|dynx_pagetype|dynx_itemid_y|dynx_itemid2_y|dynx_totalvalue_y|brand_new|         variant_new|  exterior_color|min_engine_capacity_new|owner_type|price_segment_new|   template_name_new|       page_template|template_Type_new|experiment|   Fuel Suppy System|Compression Ratio|Alloy Wheel Size|Ground Clearance Unladen|\n",
            "+--------+----------------+-----+---------+------+---+--------+---+--------------------+--------------------+--------+----------+--------------------+-------+------------------+-------+--------------------+----------------+--------------------+---------+--------------------+------------+---------+-------------+---+-----------+------+----------+-----+---------+--------------------+-------+--------------------+------------+--------------------+----------------+-------------+--------------+-----------------+--------+-------------------+------+-------+--------------------+--------+---------+-----------+--------------------+--------------------+--------------------+--------------------+--------------------+----------------+--------------------+------------+----------------+---------------+--------------+-------------------+-------------------+--------------+-------------+-------------+-------+-------+-------+----------+-----------+----------+-----------+------------+--------------------+---------------+----------------+-------------+--------------+----------------+---------------+---------+-------------+--------------------+---------------+------------+--------------+----------------+--------------------+-------------------+---------------+--------------------+-----------------+--------------+------------+------------------+------------+--------+-------------------+-------------+-------------+-----------+---------+-----------------------+---------------------+---------+------------------+----------------+----------+-------------+-------------+-----------+----------+-------------+---------------+---------+-------------------+--------------+--------------+-----------+---------+----------+--------------------+-------------+------------------+-------------+-------------+--------------+-----------------+---------+--------------------+----------------+-----------------------+----------+-----------------+--------------------+--------------------+-----------------+----------+--------------------+-----------------+----------------+------------------------+\n",
            "|       1|     Gomti Nagar| 2016|Hatchback|Manual|CNG|  69,162|  0|https://images10....|[{'img': 'https:/...|      15|     false|Maruti Wagon R LX...| Maruti|    Maruti Wagon R|    627|Maruti Wagon R LX...|            4312|             LXI CNG|  Lucknow|/buy-used-car-det...| ₹ 3.70 Lakh| 3,70,000|            0|  0|       null|     2|    Dealer|  546|  3369178|7111bf25-97af-47f...|3622006|911820426099DD719...|       false|{'title': 'EMI st...|          Manual|      3369178|          4312|           370000|       0|               null|    {}|   true|https://images10....|     ucr|corporate|         13|['Power Steering'...|['Power Steering'...|['Air Conditioner...|['Adjustable Head...|['Centeral Lockin...|          Silver|         K10B Engine|       998.0|58.16bhp@6200rpm|   77Nm@3500rpm|           3.0|                4.0|               DOHC|    69 x 72 mm|           No|           No| 3599mm| 1495mm| 1700mm|    2400mm|     1295mm|    1290mm|      960kg|      1350kg|             5 Speed|            FWD|             5.0|        Power|    4.6 metres| Ventilated Disc|           Drum| 137 kmph| 15.9 Seconds|      Tubeless Tyres|            5.0|  180-liters|          used|            null|Used Maruti Wagon...|               null|         dealer|                 5.0|           manual|          2016|        used|    maruti wagon r|         344|  maruti|        2lakh-5lakh|            0|uttar pradesh|        320|      cng|                  998.0|               manual|    69162|    Maruti Wagon R|             car|    maruti| 500cc-1000cc|          cng|  Hatchback|   3369178|      lucknow|used-car.detail|  lucknow|       500cc-1000cc|Hatchback cars|         first|  26.6 kmpl|        0|      2016|maruti wagon r lx...|  2lakh-5lakh|dynRmktParamsReady|  offerdetail|      3369178|          4312|           370000|   maruti|maruti wagon r lx...|          Silver|                  998.0|     first|      2lakh-5lakh|used cardetail v2...|Used Car > Detail...|             used|   control|                null|             null|            null|                    null|\n",
            "|       2|   Borivali West| 2015|Hatchback|Manual|CNG|  45,864|  0|https://images10....|[{'img': 'https:/...|      15|     false|Maruti Celerio Gr...| Maruti|    Maruti Celerio|    955|Maruti Celerio Gr...|            3984|           Green VXI|   Mumbai|/buy-used-car-det...| ₹ 3.65 Lakh| 3,65,000|            0|  0|       null|     2|    Dealer|  670|  3364909|c309efc1-efaf-4f8...|3617455|ED2C61CD8482924F8...|       false|{'title': 'EMI st...|          Manual|      3364909|          3984|           365000|       0|               null|    {}|   true|https://images10....|     ucr|corporate|         13|['Power Steering'...|['Power Steering'...|['Air Conditioner...|['Adjustable Head...|['Centeral Lockin...|            Grey|        K10B Engine |       998.0| 58.2bhp@6000rpm|   78Nm@3500rpm|           3.0|                4.0|               DOHC|    73 X 82 mm|           No|           No| 3600mm| 1600mm| 1560mm|    2425mm|     1420mm|    1410mm|      915kg|      1350kg|            5 Speed |            FWD|             5.0|        Power|    4.7 metres| Ventilated Disc|           Drum| 150 Kmph|15.05 Seconds|    Tubeless, Radial|            5.0|  235-litres|          used|            null|Used Maruti Celer...|               null|         dealer|                 5.0|           manual|          2015|        used|    maruti celerio|         323|  maruti|        2lakh-5lakh|            0|  maharashtra|        201|      cng|                  998.0|               manual|    45864|    Maruti Celerio|             car|    maruti| 500cc-1000cc|          cng|  Hatchback|   3364909|       mumbai|used-car.detail|   mumbai|       500cc-1000cc|Hatchback cars|         first| 31.79 kmpl|        0|      2015|maruti celerio gr...|  2lakh-5lakh|dynRmktParamsReady|  offerdetail|      3364909|          3984|           365000|   maruti|maruti celerio gr...|            Grey|                  998.0|     first|      2lakh-5lakh|used cardetail v2...|Used Car > Detail...|             used|   control|Intelligent-Gas P...|           11.0:1|            null|                    null|\n",
            "|       3|          JASOLA| 2015|    Sedan|Manual|CNG|  81,506|  0|https://images10....|[{'img': 'https:/...|      15|     false|Honda Amaze S Plu...|  Honda|       Honda Amaze|    210|Honda Amaze S Plu...|            1177|       S Plus i-VTEC|New Delhi|/buy-used-car-det...| ₹ 4.21 Lakh| 4,21,000|            0|  0|       null|     2|    Dealer| 1869|  3364372|7609f710-0c97-4f0...|3616831|2581A2C3C9B996105...|       false|{'title': 'EMI st...|          Manual|      3364372|          1177|           421000|       0|               null|    {}|   true|https://images10....|     ucr|corporate|         13|['Power Steering'...|['Power Steering'...|['Air Conditioner...|['Adjustable Head...|['Centeral Lockin...|          Silver|i-VTEC Petrol Engine|      1198.0| 86.7bhp@6000rpm|  109Nm@4500rpm|           4.0|                4.0|               SOHC|          null|           No|           No| 3990mm| 1680mm| 1505mm|    2405mm|       null|      null|      950kg|        null|             5 Speed|            FWD|             5.0|        Power|    4.5 metres|            Disc|           Drum| 160 Kmph|   15 Seconds|     Tubeless,Radial|            4.0|  400-litres|          used|            null|Used Honda Amaze ...|               null|         dealer|                 5.0|           manual|          2015|        used|       honda amaze|         122|   honda|        2lakh-5lakh|            0|        delhi|         49|      cng|                 1198.0|               manual|    81506|       Honda Amaze|             car|     honda|1000cc-2000cc|          cng|      Sedan|   3364372|    new delhi|used-car.detail|new delhi|      1000cc-2000cc|    Sedan cars|        second|    18 kmpl|        0|      2015|honda amaze s plu...|  2lakh-5lakh|dynRmktParamsReady|  offerdetail|      3364372|          1177|           421000|    honda|honda amaze s plu...|          Silver|                 1198.0|    second|      2lakh-5lakh|used cardetail v2...|Used Car > Detail...|             used|   control|                null|             null|            null|                    null|\n",
            "|       4|          jasola| 2013|Hatchback|Manual|CNG|1,15,893|  0|                null|       [{'img': ''}]|       0|     false|Maruti Wagon R LX...| Maruti|    Maruti Wagon R|    630|Maruti Wagon R LX...|            4351|             LXI CNG|New Delhi|/buy-used-car-det...| ₹ 2.40 Lakh| 2,40,000|            0|  0|       null|     2|    Dealer| 2679|  3375322|278b76e3-5539-4a5...|3628248|0BA84A3B9C6A6C827...|       false|{'title': 'EMI st...|          Manual|      3375322|          4351|           240000|       0|               null|    {}|   true|https://images10....|     ucr|corporate|         13|['Power Steering'...|['Power Steering'...|['Air Conditioner...|['Adjustable Head...|['Centeral Lockin...|          Silver|K Series Petrol E...|       998.0| 58.2bhp@6200rpm|   77Nm@3500rpm|           3.0|                4.0|               null|          null|           No|           No| 3595mm| 1475mm| 1700mm|    2400mm|     1295mm|    1290mm|      960kg|      1350kg|             5 Speed|            FWD|             5.0|        Power|     4.6metres| Ventilated Disc|           Drum|     null|         null|    Tubeless, Radial|            4.0|        null|          used|            null|Used Maruti Wagon...|               null|         dealer|                 5.0|           manual|          2013|        used|    maruti wagon r|         344|  maruti|        2lakh-5lakh|            0|        delhi|         49|      cng|                  998.0|               manual|   115893|    Maruti Wagon R|             car|    maruti| 500cc-1000cc|          cng|  Hatchback|   3375322|    new delhi|used-car.detail|new delhi|       500cc-1000cc|Hatchback cars|        second|  26.2 kmpl|        0|      2013|maruti wagon r lx...|  2lakh-5lakh|dynRmktParamsReady|  offerdetail|      3375322|          4351|           240000|   maruti|maruti wagon r lx...|          Silver|                  998.0|    second|      2lakh-5lakh|used cardetail v2...|Used Car > Detail...|             used|   control|                MPFI|             null|              13|                    null|\n",
            "|       5|   mumbai g.p.o.| 2022|      MUV|Manual|CNG|  18,900|  0|https://images10....|[{'img': 'https:/...|       6|     false|Maruti Ertiga VXI...| Maruti|     Maruti Ertiga|   3298|Maruti Ertiga VXI...|            8957|             VXI CNG|   Mumbai|/used-car-details...|₹ 11.75 Lakh|11,75,000|            0|  0|       null|     2|    Dealer|    0|  3398993|b1eab99b-a606-48d...|3654032|722AFD391803CA188...|       false|{'title': 'EMI st...|          Manual|      3398993|          8957|          1175000|       1|View Seller Details|    {}|   true|                null|     cls|  partner|          7|['Power Steering'...|['Power Steering'...|['Air Conditioner...|['Adjustable Head...|['Anti Lock Braki...|           White|                K15C|      1462.0|86.63bhp@5500rpm|121.5nm@4200rpm|           4.0|                4.0|               null|          null|         null|         null| 4395mm|   1735|   1690|      2740|       null|      null|  1250-1255|        1820|             5-Speed|            2WD|             7.0|         null|           5.2|            Disc|           Drum|     null|         null|    Tubeless, Radial|            5.0|        null|          used|            null|Used Maruti Ertig...|               null|         dealer|                 7.0|           manual|          2022|        used|     maruti ertiga|         327|  maruti|            10+lakh|            0|  maharashtra|        201|      cng|                 1462.0|               manual|    18900|     Maruti Ertiga|             car|    maruti|1000cc-2000cc|          cng|        MUV|   3398993|       mumbai|used-car.detail|   mumbai|      1000cc-2000cc|      MUV cars|         first|26.11 km/kg|        0|      2022|maruti ertiga vxi...|      10+lakh|dynRmktParamsReady|  offerdetail|      3398993|          8957|          1175000|   maruti|maruti ertiga vxi...|           White|                 1462.0|     first|          10+lakh|   used cardetail v2|Used Car > Detail...|             used|   control|                null|        12.0+-.03|            null|                    null|\n",
            "|       6|  bengali market| 2012|Hatchback|Manual|CNG|  60,000|  0|https://images10....|[{'img': 'https:/...|      17|     false|Maruti Wagon R LX...| Maruti|    Maruti Wagon R|    627|Maruti Wagon R LX...|            4312|             LXI CNG|New Delhi|/used-car-details...| ₹ 2.50 Lakh| 2,50,000|            0|  0|       null|     2|    Dealer|    0|  3398990|e030b70c-56b9-44b...|3654030|9A3C0B9A99AF19C77...|       false|{'title': 'EMI st...|          Manual|      3398990|          4312|           250000|       1|View Seller Details|    {}|   true|                null|     cls|  partner|          7|['Power Steering'...|['Power Steering'...|['Air Conditioner...|['Adjustable Head...|['Centeral Lockin...|           White|         K10B Engine|       998.0|58.16bhp@6200rpm|   77Nm@3500rpm|           3.0|                4.0|               DOHC|    69 x 72 mm|           No|           No| 3599mm| 1495mm| 1700mm|    2400mm|     1295mm|    1290mm|      960kg|      1350kg|             5 Speed|            FWD|             5.0|        Power|    4.6 metres| Ventilated Disc|           Drum| 137 kmph| 15.9 Seconds|      Tubeless Tyres|            5.0|  180-liters|          used|            null|Used Maruti Wagon...|               null|         dealer|                 5.0|           manual|          2012|        used|    maruti wagon r|         344|  maruti|        2lakh-5lakh|            0|        delhi|         49|      cng|                  998.0|               manual|    60000|    Maruti Wagon R|             car|    maruti| 500cc-1000cc|          cng|  Hatchback|   3398990|    new delhi|used-car.detail|new delhi|       500cc-1000cc|Hatchback cars|         first|  26.6 kmpl|        0|      2012|maruti wagon r lx...|  2lakh-5lakh|dynRmktParamsReady|  offerdetail|      3398990|          4312|           250000|   maruti|maruti wagon r lx...|           White|                  998.0|     first|      2lakh-5lakh|   used cardetail v2|Used Car > Detail...|             used|   control|                null|             null|            null|                    null|\n",
            "|       7|  bengali market| 2010|Hatchback|Manual|CNG|  67,000|  0|https://images10....|[{'img': 'https:/...|      12|     false|Maruti Alto Green...| Maruti|       Maruti Alto|    578|Maruti Alto Green...|            3905|     Green LXi (CNG)|New Delhi|/used-car-details...| ₹ 1.45 Lakh| 1,45,000|            0|  0|       null|     2|    Dealer|    0|  3398975|6ca9c00f-b755-44e...|3654015|D08EACD2A15F65390...|       false|                  {}|          Manual|      3398975|          3905|           145000|       1|View Seller Details|    {}|   true|                null|     cls|  partner|          7|['Power Steering'...|['Power Steering'...|['Air Conditioner...|['Adjustable Head...|['Power Door Lock...|            Blue|      In Line Engine|       796.0| 38.4bhp@6200rpm|   62Nm@3000rpm|           3.0|                4.0|               SOHC|68.5 x 72.0 mm|           No|           No| 3495mm| 1475mm| 1460mm|    2360mm|     1295mm|    1290mm|      705kg|      1140kg|Five Speed Manual...|Two Wheel Drive|             5.0|        Power|          4.6m|            Disc|           Drum| 137km/hr| 18.2 seconds|     Tubeless,Radial|            5.0|        null|          used|            null|Used Maruti Alto ...|               null|         dealer|                 5.0|           manual|          2010|        used|       maruti alto|         319|  maruti|        0lakh-2lakh|            0|        delhi|         49|      cng|                  796.0|               manual|    67000|       Maruti Alto|             car|    maruti| 500cc-1000cc|          cng|  Hatchback|   3398975|    new delhi|used-car.detail|new delhi|       500cc-1000cc|Hatchback cars|         first| 26.83 kmpl|        0|      2010|maruti alto green...|  0lakh-2lakh|dynRmktParamsReady|  offerdetail|      3398975|          3905|           145000|   maruti|maruti alto green...|            Blue|                  796.0|     first|      0lakh-2lakh|   used cardetail v2|Used Car > Detail...|             used|   control|                null|             null|              12|                    null|\n",
            "|       8|     preet vihar| 2017|Hatchback|Manual|CNG|  58,000|  0|https://images10....|[{'img': 'https:/...|       1|     false|Hyundai Grand i10...|Hyundai| Hyundai Grand i10|    254|Hyundai Grand i10...|            6921|1.2 Kappa Magna C...|New Delhi|/used-car-details...| ₹ 4.65 Lakh| 4,65,000|            0|  0|       null|     2|    Dealer|    1|  3398958|27f36089-ecf1-415...|3653997|2386E069895250A78...|       false|{'title': 'EMI st...|          Manual|      3398958|          6921|           465000|       1|View Seller Details|    {}|   true|                null|     cls|  partner|          7|['Power Steering'...|['Power Steering'...|['Air Conditioner...|['Adjustable Head...|['Anti Lock Braki...|            Grey|Kappa VTVT Petrol...|      1197.0|65.39bhp@6000rpm|   98Nm@4000rpm|           4.0|                4.0|               DOHC|          null|           No|           No| 3765mm| 1660mm| 1520mm|    2425mm|     1479mm|    1493mm|       null|        null|             5 Speed|            FWD|             5.0|        Power|    4.8 metres|            Disc|           Drum| 165 Kmph| 12.9 Seconds|            Tubeless|            5.0|         256|          used|            null|Used Hyundai Gran...|               null|         dealer|                 5.0|           manual|          2017|        used| hyundai grand i10|         143| hyundai|        2lakh-5lakh|            0|        delhi|         49|      cng|                 1197.0|               manual|    58000| Hyundai Grand i10|             car|   hyundai|1000cc-2000cc|          cng|  Hatchback|   3398958|    new delhi|used-car.detail|new delhi|      1000cc-2000cc|Hatchback cars|         first| 18.9 km/kg|        0|      2017|hyundai grand i10...|  2lakh-5lakh|dynRmktParamsReady|  offerdetail|      3398958|          6921|           465000|  hyundai|hyundai grand i10...|            Grey|                 1197.0|     first|      2lakh-5lakh|   used cardetail v2|Used Car > Detail...|             used|   control|                MPFI|             null|            null|                    null|\n",
            "|       9|       dundahera| 2021|Hatchback|Manual|CNG|  54,097|  0|https://images10....|[{'img': 'https:/...|      17|     false|Maruti Wagon R CN...| Maruti|    Maruti Wagon R|    627|Maruti Wagon R CN...|            7583|             CNG LXI|  Gurgaon|/used-car-details...| ₹ 5.60 Lakh| 5,60,000|            0|  0|       null|     2|    Dealer|   10|  3398719|4ebf53b7-8910-43c...|3653753|2554C03B4EA4A61B8...|       false|{'title': 'EMI st...|          Manual|      3398719|          7583|           560000|       1|View Seller Details|    {}|   true|                null|     cls|  partner|          7|['Power Steering'...|['Power Steering'...|['Air Conditioner...|['Adjustable Head...|['Anti Lock Braki...|          Silver|  K10B Petrol Engine|       998.0|58.33bhp@5500rpm|   78Nm@3500rpm|           3.0|                4.0|               DOHC|  73 x 79.5 mm|           No|           No|3655 mm|1620 mm|1675 mm|   2435 mm|       null|      null|  905-910kg|      1340kg|             5 Speed|            FWD|             5.0|        Power|    4.7 metres|            Disc|           Drum|     null| 18.6 Seconds|Tubeless Tyres, R...|            5.0|  341 Litres|          used|            null|Used Maruti Wagon...|               null|         dealer|                 5.0|           manual|          2021|        used|    maruti wagon r|         344|  maruti|        5lakh-8lakh|            0|      haryana|         74|      cng|                  998.0|               manual|    54097|    Maruti Wagon R|             car|    maruti| 500cc-1000cc|          cng|  Hatchback|   3398719|      gurgaon|used-car.detail|  gurgaon|       500cc-1000cc|Hatchback cars|         first| 32.52 kmpl|        0|      2021|maruti wagon r cn...|  5lakh-8lakh|dynRmktParamsReady|  offerdetail|      3398719|          7583|           560000|   maruti|maruti wagon r cn...|          Silver|                  998.0|     first|      5lakh-8lakh|   used cardetail v2|Used Car > Detail...|             used|   control|                MPFI|             null|            null|                    null|\n",
            "|      10|  bengali market| 2011|Hatchback|Manual|CNG|  67,000|  0|https://images10....|[{'img': 'https:/...|       7|     false|Maruti Wagon R LX...| Maruti|    Maruti Wagon R|    627|Maruti Wagon R LX...|            4312|             LXI CNG|New Delhi|/used-car-details...| ₹ 2.15 Lakh| 2,15,000|            0|  0|       null|     2|    Dealer|    1|  3398677|5bb9f635-15d6-46b...|3653699|BC0B9218118E314B4...|       false|                  {}|          Manual|      3398677|          4312|           215000|       1|View Seller Details|    {}|   true|                null|     cls|  partner|          7|['Power Steering'...|['Power Steering'...|['Air Conditioner...|['Adjustable Head...|['Centeral Lockin...|          Silver|         K10B Engine|       998.0|58.16bhp@6200rpm|   77Nm@3500rpm|           3.0|                4.0|               DOHC|    69 x 72 mm|           No|           No| 3599mm| 1495mm| 1700mm|    2400mm|     1295mm|    1290mm|      960kg|      1350kg|             5 Speed|            FWD|             5.0|        Power|    4.6 metres| Ventilated Disc|           Drum| 137 kmph| 15.9 Seconds|      Tubeless Tyres|            5.0|  180-liters|          used|            null|Used Maruti Wagon...|               null|         dealer|                 5.0|           manual|          2011|        used|    maruti wagon r|         344|  maruti|        2lakh-5lakh|            0|        delhi|         49|      cng|                  998.0|               manual|    67000|    Maruti Wagon R|             car|    maruti| 500cc-1000cc|          cng|  Hatchback|   3398677|    new delhi|used-car.detail|new delhi|       500cc-1000cc|Hatchback cars|        second|  26.6 kmpl|        0|      2011|maruti wagon r lx...|  2lakh-5lakh|dynRmktParamsReady|  offerdetail|      3398677|          4312|           215000|   maruti|maruti wagon r lx...|          Silver|                  998.0|    second|      2lakh-5lakh|   used cardetail v2|Used Car > Detail...|             used|   control|                null|             null|            null|                    null|\n",
            "|      11|       pune city| 2018|Hatchback|Manual|CNG|  98,083|  0|https://images10....|[{'img': 'https:/...|      22|     false|Maruti Celerio VX...| Maruti|    Maruti Celerio|    588|Maruti Celerio VX...|            6056|VXI CNG Optional ...|     Pune|/used-car-details...| ₹ 4.25 Lakh| 4,25,000|            0|  0|       null|     2|    Dealer|   10|  3398666|b324264a-60ba-42c...|3653688|FD6E20E8E660421A0...|       false|{'title': 'EMI st...|          Manual|      3398666|          6056|           425000|       1|View Seller Details|    {}|   true|                null|     cls|  partner|          7|['Power Steering'...|['Power Steering'...|['Air Conditioner...|['Adjustable Head...|['Anti Lock Braki...|    Silky silver|         K10B Engine|       998.0|58.33bhp@6000rpm|   78Nm@3500rpm|           3.0|                4.0|               DOHC|    73 X 82 mm|           No|           No| 3695mm| 1600mm| 1560mm|    2425mm|     1420mm|    1410mm|      925kg|      1350kg|             5 Speed|            FWD|             5.0|        Power|    4.7 metres| Ventilated Disc|           Drum| 150 Kmph|15.05 Seconds|    Tubeless, Radial|            5.0|  235-litres|          used|            null|Used Maruti Celer...|               null|         dealer|                 5.0|           manual|          2018|        used|    maruti celerio|         323|  maruti|        2lakh-5lakh|            0|  maharashtra|        205|      cng|                  998.0|               manual|    98083|    Maruti Celerio|             car|    maruti| 500cc-1000cc|          cng|  Hatchback|   3398666|         pune|used-car.detail|     pune|       500cc-1000cc|Hatchback cars|         first| 31.79 kmpl|        0|      2018|maruti celerio vx...|  2lakh-5lakh|dynRmktParamsReady|  offerdetail|      3398666|          6056|           425000|   maruti|maruti celerio vx...|    Silky silver|                  998.0|     first|      2lakh-5lakh|   used cardetail v2|Used Car > Detail...|             used|   control|Intelligent-Gas P...|           11.0:1|            null|                    null|\n",
            "|      12|            null| 2019|Hatchback|Manual|CNG|  80,000|  0|https://stimg2.ca...|[{'img': 'https:/...|       6|     false|Maruti Celerio VX...| Maruti|    Maruti Celerio|    588|Maruti Celerio VX...|            6055|        VXI CNG BSIV|     Agra|/used-car-details...| ₹ 3.80 Lakh| 3,80,000|            0|  0|       null|     2|Individual|    7|  3398639|fa28f05d-ea6d-4d0...|3653659|B25BD98FF73EBCC7A...|       false|                  {}|          Manual|      3398639|          6055|           380000|       1|View Seller Details|    {}|   true|                null|     cls|  partner|          7|['Power Steering'...|['Power Steering'...|['Air Conditioner...|['Adjustable Head...|['Anti Lock Braki...|           White|         K10B Engine|       998.0|58.33bhp@6000rpm|   78Nm@3500rpm|           3.0|                4.0|               DOHC|    73 X 82 mm|           No|           No| 3695mm| 1600mm| 1560mm|    2425mm|     1420mm|    1410mm|      920kg|      1350kg|             5 Speed|            FWD|             5.0|        Power|    4.7 metres| Ventilated Disc|           Drum| 150 Kmph|15.05 Seconds|    Tubeless, Radial|            5.0|  235-litres|          used|            null|Used Maruti Celer...|               null|     individual|                 5.0|           manual|          2019|        used|    maruti celerio|         323|  maruti|        2lakh-5lakh|            0|uttar pradesh|        312|      cng|                  998.0|               manual|    80000|    Maruti Celerio|             car|    maruti| 500cc-1000cc|          cng|  Hatchback|   3398639|         agra|used-car.detail|     agra|       500cc-1000cc|Hatchback cars|         first| 31.79 kmpl|        0|      2019|maruti celerio vx...|  2lakh-5lakh|dynRmktParamsReady|  offerdetail|      3398639|          6055|           380000|   maruti|maruti celerio vx...|           White|                  998.0|     first|      2lakh-5lakh|   used cardetail v2|Used Car > Detail...|             used|   control|Intelligent-Gas P...|           11.0:1|            null|                    null|\n",
            "|      13|     bandra west| 2017|      MUV|Manual|CNG|  39,000|  0|https://images10....|[{'img': 'https:/...|      14|     false|Maruti Ertiga VXI...| Maruti|     Maruti Ertiga|    592|Maruti Ertiga VXI...|            4041|             VXI CNG|   Mumbai|/used-car-details...| ₹ 7.95 Lakh| 7,95,000|            0|  0|       null|     2|    Dealer|    6|  3398641|5423e926-5d82-4ff...|3653664|A604CE09C894DA803...|       false|{'title': 'EMI st...|          Manual|      3398641|          4041|           795000|       1|View Seller Details|    {}|   true|                null|     cls|  partner|          7|['Power Steering'...|['Power Steering'...|['Air Conditioner...|['Adjustable Head...|['Anti Lock Braki...|          Silver|  K14B Petrol Engine|      1373.0|80.46bhp@6000rpm|  112Nm@4000rpm|           4.0|                4.0|               DOHC|    73 X 82 mm|           No|           No| 4296mm| 1695mm| 1685mm|    2740mm|     1480mm|    1490mm|     1255kg|        null|             5 Speed|            FWD|             7.0|        Power|    5.2 metres| Ventilated Disc|           Drum| 164 Kmph|   13 Seconds|     Tubeless,Radial|            5.0|  135-liters|          used|            null|Used Maruti Ertig...|               null|         dealer|                 7.0|           manual|          2017|        used|     maruti ertiga|         327|  maruti|        5lakh-8lakh|            0|  maharashtra|        201|      cng|                 1373.0|               manual|    39000|     Maruti Ertiga|             car|    maruti|1000cc-2000cc|          cng|        MUV|   3398641|       mumbai|used-car.detail|   mumbai|      1000cc-2000cc|      MUV cars|         first|  17.5 kmpl|        0|      2017|maruti ertiga vxi...|  5lakh-8lakh|dynRmktParamsReady|  offerdetail|      3398641|          4041|           795000|   maruti|maruti ertiga vxi...|          Silver|                 1373.0|     first|      5lakh-8lakh|   used cardetail v2|Used Car > Detail...|             used|   control|                MPFI|           11.0:1|            null|                    null|\n",
            "|      14|       pune city| 2014|Hatchback|Manual|CNG|  34,889|  0|https://images10....|[{'img': 'https:/...|      26|     false|Maruti Wagon R LX...| Maruti|    Maruti Wagon R|    627|Maruti Wagon R LX...|            4312|             LXI CNG|     Pune|/used-car-details...| ₹ 3.50 Lakh| 3,50,000|            0|  0|       null|     2|    Dealer|    7|  3398551|ad459b4e-5e3d-4ea...|3653574|368B0F97DC374789F...|       false|{'title': 'EMI st...|          Manual|      3398551|          4312|           350000|       1|View Seller Details|    {}|   true|                null|     cls|  partner|          7|['Power Steering'...|['Power Steering'...|['Air Conditioner...|['Adjustable Head...|['Centeral Lockin...|Bakers Chocolate|         K10B Engine|       998.0|58.16bhp@6200rpm|   77Nm@3500rpm|           3.0|                4.0|               DOHC|    69 x 72 mm|           No|           No| 3599mm| 1495mm| 1700mm|    2400mm|     1295mm|    1290mm|      960kg|      1350kg|             5 Speed|            FWD|             5.0|        Power|    4.6 metres| Ventilated Disc|           Drum| 137 kmph| 15.9 Seconds|      Tubeless Tyres|            5.0|  180-liters|          used|            null|Used Maruti Wagon...|               null|         dealer|                 5.0|           manual|          2014|        used|    maruti wagon r|         344|  maruti|        2lakh-5lakh|            0|  maharashtra|        205|      cng|                  998.0|               manual|    34889|    Maruti Wagon R|             car|    maruti| 500cc-1000cc|          cng|  Hatchback|   3398551|         pune|used-car.detail|     pune|       500cc-1000cc|Hatchback cars|         first|  26.6 kmpl|        0|      2014|maruti wagon r lx...|  2lakh-5lakh|dynRmktParamsReady|  offerdetail|      3398551|          4312|           350000|   maruti|maruti wagon r lx...|Bakers Chocolate|                  998.0|     first|      2lakh-5lakh|   used cardetail v2|Used Car > Detail...|             used|   control|                null|             null|            null|                    null|\n",
            "|      15|new delhi g.p.o.| 2022|Hatchback|Manual|CNG|  31,758|  0|https://images10....|[{'img': 'https:/...|      21|     false|Maruti Wagon R CN...| Maruti|    Maruti Wagon R|    627|Maruti Wagon R CN...|            7670|         CNG LXI Opt|New Delhi|/used-car-details...| ₹ 6.50 Lakh| 6,50,000|            0|  0|       null|     2|    Dealer|    2|  3398542|27f1507d-5edc-4a4...|3653564|12AF52939A2DABEE9...|       false|{'title': 'EMI st...|          Manual|      3398542|          7670|           650000|       1|View Seller Details|    {}|   true|                null|     cls|  partner|          7|['Power Steering'...|['Power Steering'...|['Air Conditioner...|['Adjustable Head...|['Anti Lock Braki...|    Silky silver|  K10B Petrol Engine|       998.0|58.33bhp@5500rpm|   78Nm@3500rpm|           3.0|                4.0|               DOHC|  73 x 79.5 mm|           No|           No|3655 mm|1620 mm|1675 mm|   2435 mm|       null|      null|    905-910|      1340kg|             5 Speed|            FWD|             5.0|        Power|    4.7 metres|            Disc|           Drum|     null| 18.6 Seconds|      Tubeless Tyres|            5.0|  341 Litres|          used|            null|Used Maruti Wagon...|               null|         dealer|                 5.0|           manual|          2022|        used|    maruti wagon r|         344|  maruti|        5lakh-8lakh|            0|        delhi|         49|      cng|                  998.0|               manual|    31758|    Maruti Wagon R|             car|    maruti| 500cc-1000cc|          cng|  Hatchback|   3398542|    new delhi|used-car.detail|new delhi|       500cc-1000cc|Hatchback cars|         first| 32.52 kmpl|        0|      2022|maruti wagon r cn...|  5lakh-8lakh|dynRmktParamsReady|  offerdetail|      3398542|          7670|           650000|   maruti|maruti wagon r cn...|    Silky silver|                  998.0|     first|      5lakh-8lakh|   used cardetail v2|Used Car > Detail...|             used|   control|                MPFI|             null|            null|                    null|\n",
            "|      16|     mohan nagar| 2021|Hatchback|Manual|CNG|  23,000|  0|https://images10....|[{'img': 'https:/...|      17|     false|Maruti Wagon R LX...| Maruti|    Maruti Wagon R|    627|Maruti Wagon R LX...|            4312|             LXI CNG|Ghaziabad|/used-car-details...| ₹ 5.99 Lakh| 5,99,000|            0|  0|       null|     2|    Dealer|   12|  3398468|39b598ca-7b0b-41e...|3653486|994421B0AB5477636...|       false|{'title': 'EMI st...|          Manual|      3398468|          4312|           599000|       1|View Seller Details|    {}|   true|                null|     cls|  partner|          7|['Power Steering'...|['Power Steering'...|['Air Conditioner...|['Adjustable Head...|['Centeral Lockin...|           White|         K10B Engine|       998.0|58.16bhp@6200rpm|   77Nm@3500rpm|           3.0|                4.0|               DOHC|    69 x 72 mm|           No|           No| 3599mm| 1495mm| 1700mm|    2400mm|     1295mm|    1290mm|      960kg|      1350kg|             5 Speed|            FWD|             5.0|        Power|    4.6 metres| Ventilated Disc|           Drum| 137 kmph| 15.9 Seconds|      Tubeless Tyres|            5.0|  180-liters|          used|            null|Used Maruti Wagon...|               null|         dealer|                 5.0|           manual|          2021|        used|    maruti wagon r|         344|  maruti|        5lakh-8lakh|            0|uttar pradesh|        349|      cng|                  998.0|               manual|    23000|    Maruti Wagon R|             car|    maruti| 500cc-1000cc|          cng|  Hatchback|   3398468|    ghaziabad|used-car.detail|ghaziabad|       500cc-1000cc|Hatchback cars|         first|  26.6 kmpl|        0|      2021|maruti wagon r lx...|  5lakh-8lakh|dynRmktParamsReady|  offerdetail|      3398468|          4312|           599000|   maruti|maruti wagon r lx...|           White|                  998.0|     first|      5lakh-8lakh|   used cardetail v2|Used Car > Detail...|             used|   control|                null|             null|            null|                    null|\n",
            "|      17|  bengali market| 2014|Hatchback|Manual|CNG|  60,000|  0|https://images10....|[{'img': 'https:/...|       9|     false|Hyundai Grand i10...|Hyundai| Hyundai Grand i10|    255|Hyundai Grand i10...|            1548|            Asta CNG|New Delhi|/used-car-details...| ₹ 4.25 Lakh| 4,25,000|            0|  0|       null|     2|    Dealer|    6|  3398456|0dcbf585-0ad0-480...|3653477|9BFC8A9CBAF54F241...|       false|{'title': 'EMI st...|          Manual|      3398456|          1548|           425000|       1|View Seller Details|    {}|   true|                null|     cls|  partner|          7|['Power Steering'...|['Power Steering'...|['Air Conditioner...|['Adjustable Head...|['Centeral Lockin...|           White|Kappa VTVT Petrol...|      1197.0|   82bhp@6000rpm|  114Nm@4000rpm|           4.0|                4.0|               DOHC|          null|           No|           No| 3765mm| 1660mm| 1520mm|    2425mm|     1479mm|    1493mm|      935kg|        null|             5 Speed|            FWD|             5.0|        Power|    4.8 metres|            Disc|           Drum| 165 Kmph| 12.9 Seconds|            Tubeless|            5.0|  256-liters|          used|            null|Used Hyundai Gran...|               null|         dealer|                 5.0|           manual|          2014|        used| hyundai grand i10|         143| hyundai|        2lakh-5lakh|            0|        delhi|         49|      cng|                 1197.0|               manual|    60000| Hyundai Grand i10|             car|   hyundai|1000cc-2000cc|          cng|  Hatchback|   3398456|    new delhi|used-car.detail|new delhi|      1000cc-2000cc|Hatchback cars|        second|    25 kmpl|        0|      2014|hyundai grand i10...|  2lakh-5lakh|dynRmktParamsReady|  offerdetail|      3398456|          1548|           425000|  hyundai|hyundai grand i10...|           White|                 1197.0|    second|      2lakh-5lakh|   used cardetail v2|Used Car > Detail...|             used|   control|               DEDST|             null|              14|                    null|\n",
            "|      18|new delhi g.p.o.| 2016|Hatchback|Manual|CNG|  43,413|  0|https://images10....|[{'img': 'https:/...|      22|     false|Maruti Wagon R LX...| Maruti|    Maruti Wagon R|    627|Maruti Wagon R LX...|            4312|             LXI CNG|New Delhi|/used-car-details...| ₹ 3.18 Lakh| 3,17,736|            0|  0|       null|     2|    Dealer|   20|  3398353|39cd661b-d9a0-4d4...|3653360|342047AB4282B2985...|       false|{'title': 'EMI st...|          Manual|      3398353|          4312|           317736|       1|View Seller Details|    {}|   true|                null|     cls|  partner|          7|['Power Steering'...|['Power Steering'...|['Air Conditioner...|['Adjustable Head...|['Centeral Lockin...|           White|         K10B Engine|       998.0|58.16bhp@6200rpm|   77Nm@3500rpm|           3.0|                4.0|               DOHC|    69 x 72 mm|           No|           No| 3599mm| 1495mm| 1700mm|    2400mm|     1295mm|    1290mm|      960kg|      1350kg|             5 Speed|            FWD|             5.0|        Power|    4.6 metres| Ventilated Disc|           Drum| 137 kmph| 15.9 Seconds|      Tubeless Tyres|            5.0|  180-liters|          used|            null|Used Maruti Wagon...|               null|         dealer|                 5.0|           manual|          2016|        used|    maruti wagon r|         344|  maruti|        2lakh-5lakh|            0|        delhi|         49|      cng|                  998.0|               manual|    43413|    Maruti Wagon R|             car|    maruti| 500cc-1000cc|          cng|  Hatchback|   3398353|    new delhi|used-car.detail|new delhi|       500cc-1000cc|Hatchback cars|        second|  26.6 kmpl|        0|      2016|maruti wagon r lx...|  2lakh-5lakh|dynRmktParamsReady|  offerdetail|      3398353|          4312|           317736|   maruti|maruti wagon r lx...|           White|                  998.0|    second|      2lakh-5lakh|   used cardetail v2|Used Car > Detail...|             used|   control|                null|             null|            null|                    null|\n",
            "|      19|            null| 2020|      MUV|Manual|CNG|  60,000|  0|https://stimg2.ca...|[{'img': 'https:/...|       3|     false|Maruti Ertiga Tou...| Maruti|Maruti Ertiga Tour|   3315|Maruti Ertiga Tou...|            8869|   STD CNG 2019-2022|Bangalore|/used-car-details...|   ₹ 10 Lakh|10,00,000|            0|  0|       null|     2|Individual|    6|  3398294|8186c303-66cf-49a...|3653282|6D91CA0396E9B67B5...|       false|{'title': 'EMI st...|          Manual|      3398294|          8869|          1000000|       1|View Seller Details|    {}|   true|                null|     cls|  partner|          7|['Power Steering'...|['Power Steering'...|['Air Conditioner...|['Adjustable Head...|['Anti Lock Braki...|           White|                K15B|      1462.0|91.18bhp@6000rpm|  122nm@4400rpm|           4.0|                4.0|               null|     74.0x85.0|         null|         null|   4395|   1735|   1690|      2740|       null|      null|       1235|        1795|             5-Speed|            FWD|             7.0|         null|           5.2| Ventilated Disc|           Drum|     null|         null|    Tubeless, Radial|            5.0|        null|          used|            null|Used Maruti Ertig...|               null|     individual|                 7.0|           manual|          2020|        used|maruti ertiga tour|         889|  maruti|            10+lakh|            0|    karnataka|        105|      cng|                 1462.0|               manual|    60000|Maruti Ertiga Tour|             car|    maruti|1000cc-2000cc|          cng|        MUV|   3398294|    bangalore|used-car.detail|bangalore|      1000cc-2000cc|      MUV cars|         first|       null|        0|      2020|maruti ertiga tou...|      10+lakh|dynRmktParamsReady|  offerdetail|      3398294|          8869|          1000000|   maruti|maruti ertiga tou...|           White|                 1462.0|     first|          10+lakh|   used cardetail v2|Used Car > Detail...|             used|   control|                null|             null|            null|                    null|\n",
            "|      20|       pune city| 2014|Hatchback|Manual|CNG|  67,720|  0|https://images10....|[{'img': 'https:/...|      20|     false|Maruti Celerio Gr...| Maruti|    Maruti Celerio|    955|Maruti Celerio Gr...|            3984|           Green VXI|     Pune|/used-car-details...| ₹ 3.17 Lakh| 3,17,400|            0|  0|       null|     2|    Dealer|   57|  3398295|4660538e-39df-416...|3653286|5447F527FA50251B5...|       false|{'title': 'EMI st...|          Manual|      3398295|          3984|           317400|       1|View Seller Details|    {}|   true|                null|     cls|  partner|          7|['Power Steering'...|['Power Steering'...|['Air Conditioner...|['Adjustable Head...|['Centeral Lockin...|   Cerulean Blue|        K10B Engine |       998.0| 58.2bhp@6000rpm|   78Nm@3500rpm|           3.0|                4.0|               DOHC|    73 X 82 mm|           No|           No| 3600mm| 1600mm| 1560mm|    2425mm|     1420mm|    1410mm|      915kg|      1350kg|            5 Speed |            FWD|             5.0|        Power|    4.7 metres| Ventilated Disc|           Drum| 150 Kmph|15.05 Seconds|    Tubeless, Radial|            5.0|  235-litres|          used|            null|Used Maruti Celer...|               null|         dealer|                 5.0|           manual|          2014|        used|    maruti celerio|         323|  maruti|        2lakh-5lakh|            0|  maharashtra|        205|      cng|                  998.0|               manual|    67720|    Maruti Celerio|             car|    maruti| 500cc-1000cc|          cng|  Hatchback|   3398295|         pune|used-car.detail|     pune|       500cc-1000cc|Hatchback cars|         third| 31.79 kmpl|        0|      2014|maruti celerio gr...|  2lakh-5lakh|dynRmktParamsReady|  offerdetail|      3398295|          3984|           317400|   maruti|maruti celerio gr...|   Cerulean Blue|                  998.0|     third|      2lakh-5lakh|   used cardetail v2|Used Car > Detail...|             used|   control|Intelligent-Gas P...|           11.0:1|            null|                    null|\n",
            "+--------+----------------+-----+---------+------+---+--------+---+--------------------+--------------------+--------+----------+--------------------+-------+------------------+-------+--------------------+----------------+--------------------+---------+--------------------+------------+---------+-------------+---+-----------+------+----------+-----+---------+--------------------+-------+--------------------+------------+--------------------+----------------+-------------+--------------+-----------------+--------+-------------------+------+-------+--------------------+--------+---------+-----------+--------------------+--------------------+--------------------+--------------------+--------------------+----------------+--------------------+------------+----------------+---------------+--------------+-------------------+-------------------+--------------+-------------+-------------+-------+-------+-------+----------+-----------+----------+-----------+------------+--------------------+---------------+----------------+-------------+--------------+----------------+---------------+---------+-------------+--------------------+---------------+------------+--------------+----------------+--------------------+-------------------+---------------+--------------------+-----------------+--------------+------------+------------------+------------+--------+-------------------+-------------+-------------+-----------+---------+-----------------------+---------------------+---------+------------------+----------------+----------+-------------+-------------+-----------+----------+-------------+---------------+---------+-------------------+--------------+--------------+-----------+---------+----------+--------------------+-------------+------------------+-------------+-------------+--------------+-----------------+---------+--------------------+----------------+-----------------------+----------+-----------------+--------------------+--------------------+-----------------+----------+--------------------+-----------------+----------------+------------------------+\n",
            "only showing top 20 rows\n",
            "\n"
          ]
        }
      ]
    },
    {
      "cell_type": "code",
      "source": [
        "car.printSchema()"
      ],
      "metadata": {
        "colab": {
          "base_uri": "https://localhost:8080/"
        },
        "id": "if7I4oeHpYa7",
        "outputId": "5dae5c2d-60a7-41b9-d55b-0477341bb623"
      },
      "execution_count": null,
      "outputs": [
        {
          "output_type": "stream",
          "name": "stdout",
          "text": [
            "root\n",
            " |-- position: integer (nullable = true)\n",
            " |-- loc: string (nullable = true)\n",
            " |-- myear: integer (nullable = true)\n",
            " |-- bt: string (nullable = true)\n",
            " |-- tt: string (nullable = true)\n",
            " |-- ft: string (nullable = true)\n",
            " |-- km: string (nullable = true)\n",
            " |-- ip: integer (nullable = true)\n",
            " |-- pi: string (nullable = true)\n",
            " |-- images: string (nullable = true)\n",
            " |-- imgCount: integer (nullable = true)\n",
            " |-- threesixty: boolean (nullable = true)\n",
            " |-- dvn: string (nullable = true)\n",
            " |-- oem: string (nullable = true)\n",
            " |-- model: string (nullable = true)\n",
            " |-- modelId: integer (nullable = true)\n",
            " |-- vid: string (nullable = true)\n",
            " |-- centralVariantId: integer (nullable = true)\n",
            " |-- variantName: string (nullable = true)\n",
            " |-- city_x: string (nullable = true)\n",
            " |-- vlink: string (nullable = true)\n",
            " |-- price: string (nullable = true)\n",
            " |-- pu: string (nullable = true)\n",
            " |-- discountValue: integer (nullable = true)\n",
            " |-- msp: integer (nullable = true)\n",
            " |-- priceSaving: string (nullable = true)\n",
            " |-- pageNo: integer (nullable = true)\n",
            " |-- utype: string (nullable = true)\n",
            " |-- views: integer (nullable = true)\n",
            " |-- usedCarId: integer (nullable = true)\n",
            " |-- usedCarSkuId: string (nullable = true)\n",
            " |-- ucid: integer (nullable = true)\n",
            " |-- sid: string (nullable = true)\n",
            " |-- tmGaadiStore: boolean (nullable = true)\n",
            " |-- emiwidget: string (nullable = true)\n",
            " |-- transmissionType: string (nullable = true)\n",
            " |-- dynx_itemid_x: integer (nullable = true)\n",
            " |-- dynx_itemid2_x: integer (nullable = true)\n",
            " |-- dynx_totalvalue_x: integer (nullable = true)\n",
            " |-- leadForm: integer (nullable = true)\n",
            " |-- leadFormCta: string (nullable = true)\n",
            " |-- offers: string (nullable = true)\n",
            " |-- compare: boolean (nullable = true)\n",
            " |-- brandingIcon: string (nullable = true)\n",
            " |-- pageType: string (nullable = true)\n",
            " |-- carType: string (nullable = true)\n",
            " |-- corporateId: integer (nullable = true)\n",
            " |-- top_features: string (nullable = true)\n",
            " |-- comfort_features: string (nullable = true)\n",
            " |-- interior_features: string (nullable = true)\n",
            " |-- exterior_features: string (nullable = true)\n",
            " |-- safety_features: string (nullable = true)\n",
            " |-- Color: string (nullable = true)\n",
            " |-- Engine Type: string (nullable = true)\n",
            " |-- Displacement: double (nullable = true)\n",
            " |-- Max Power: string (nullable = true)\n",
            " |-- Max Torque: string (nullable = true)\n",
            " |-- No of Cylinder: double (nullable = true)\n",
            " |-- Values per Cylinder: double (nullable = true)\n",
            " |-- Value Configuration: string (nullable = true)\n",
            " |-- BoreX Stroke: string (nullable = true)\n",
            " |-- Turbo Charger: string (nullable = true)\n",
            " |-- Super Charger: string (nullable = true)\n",
            " |-- Length: string (nullable = true)\n",
            " |-- Width: string (nullable = true)\n",
            " |-- Height: string (nullable = true)\n",
            " |-- Wheel Base: string (nullable = true)\n",
            " |-- Front Tread: string (nullable = true)\n",
            " |-- Rear Tread: string (nullable = true)\n",
            " |-- Kerb Weight: string (nullable = true)\n",
            " |-- Gross Weight: string (nullable = true)\n",
            " |-- Gear Box: string (nullable = true)\n",
            " |-- Drive Type: string (nullable = true)\n",
            " |-- Seating Capacity: double (nullable = true)\n",
            " |-- Steering Type: string (nullable = true)\n",
            " |-- Turning Radius: string (nullable = true)\n",
            " |-- Front Brake Type: string (nullable = true)\n",
            " |-- Rear Brake Type: string (nullable = true)\n",
            " |-- Top Speed: string (nullable = true)\n",
            " |-- Acceleration: string (nullable = true)\n",
            " |-- Tyre Type: string (nullable = true)\n",
            " |-- No Door Numbers: double (nullable = true)\n",
            " |-- Cargo Volumn: string (nullable = true)\n",
            " |-- model_type_new: string (nullable = true)\n",
            " |-- originalLocation: string (nullable = true)\n",
            " |-- page_title: string (nullable = true)\n",
            " |-- compare_car_details: string (nullable = true)\n",
            " |-- seller_type_new: string (nullable = true)\n",
            " |-- seating_capacity_new: double (nullable = true)\n",
            " |-- transmission_type: string (nullable = true)\n",
            " |-- model_year_new: integer (nullable = true)\n",
            " |-- car_type_new: string (nullable = true)\n",
            " |-- model_name: string (nullable = true)\n",
            " |-- model_id_new: integer (nullable = true)\n",
            " |-- oem_name: string (nullable = true)\n",
            " |-- price_range_segment: string (nullable = true)\n",
            " |-- dealer_id_new: integer (nullable = true)\n",
            " |-- state: string (nullable = true)\n",
            " |-- city_id_new: integer (nullable = true)\n",
            " |-- fuel_type: string (nullable = true)\n",
            " |-- max_engine_capacity_new: double (nullable = true)\n",
            " |-- transmission_type_new: string (nullable = true)\n",
            " |-- km_driven: integer (nullable = true)\n",
            " |-- model_new: string (nullable = true)\n",
            " |-- vehicle_type_new: string (nullable = true)\n",
            " |-- brand_name: string (nullable = true)\n",
            " |-- engine_cc: string (nullable = true)\n",
            " |-- fuel_type_new: string (nullable = true)\n",
            " |-- car_segment: string (nullable = true)\n",
            " |-- used_carid: integer (nullable = true)\n",
            " |-- city_name_new: string (nullable = true)\n",
            " |-- page_type: string (nullable = true)\n",
            " |-- city_y: string (nullable = true)\n",
            " |-- engine_capacity_new: string (nullable = true)\n",
            " |-- body_type_new: string (nullable = true)\n",
            " |-- owner_type_new: string (nullable = true)\n",
            " |-- mileage_new: string (nullable = true)\n",
            " |-- dealer_id: integer (nullable = true)\n",
            " |-- model_year: integer (nullable = true)\n",
            " |-- variant_name: string (nullable = true)\n",
            " |-- price_segment: string (nullable = true)\n",
            " |-- dynx_event: string (nullable = true)\n",
            " |-- dynx_pagetype: string (nullable = true)\n",
            " |-- dynx_itemid_y: integer (nullable = true)\n",
            " |-- dynx_itemid2_y: integer (nullable = true)\n",
            " |-- dynx_totalvalue_y: integer (nullable = true)\n",
            " |-- brand_new: string (nullable = true)\n",
            " |-- variant_new: string (nullable = true)\n",
            " |-- exterior_color: string (nullable = true)\n",
            " |-- min_engine_capacity_new: double (nullable = true)\n",
            " |-- owner_type: string (nullable = true)\n",
            " |-- price_segment_new: string (nullable = true)\n",
            " |-- template_name_new: string (nullable = true)\n",
            " |-- page_template: string (nullable = true)\n",
            " |-- template_Type_new: string (nullable = true)\n",
            " |-- experiment: string (nullable = true)\n",
            " |-- Fuel Suppy System: string (nullable = true)\n",
            " |-- Compression Ratio: string (nullable = true)\n",
            " |-- Alloy Wheel Size: string (nullable = true)\n",
            " |-- Ground Clearance Unladen: string (nullable = true)\n",
            "\n"
          ]
        }
      ]
    },
    {
      "cell_type": "code",
      "source": [
        "from pyspark.sql.functions import col\n",
        "column_names = car.columns\n",
        "print(column_names )"
      ],
      "metadata": {
        "colab": {
          "base_uri": "https://localhost:8080/"
        },
        "id": "U-m4i7TCpoJu",
        "outputId": "142104c8-a223-4269-9048-e02c8fdb5350"
      },
      "execution_count": null,
      "outputs": [
        {
          "output_type": "stream",
          "name": "stdout",
          "text": [
            "['position', 'loc', 'myear', 'bt', 'tt', 'ft', 'km', 'ip', 'pi', 'images', 'imgCount', 'threesixty', 'dvn', 'oem', 'model', 'modelId', 'vid', 'centralVariantId', 'variantName', 'city_x', 'vlink', 'price', 'pu', 'discountValue', 'msp', 'priceSaving', 'pageNo', 'utype', 'views', 'usedCarId', 'usedCarSkuId', 'ucid', 'sid', 'tmGaadiStore', 'emiwidget', 'transmissionType', 'dynx_itemid_x', 'dynx_itemid2_x', 'dynx_totalvalue_x', 'leadForm', 'leadFormCta', 'offers', 'compare', 'brandingIcon', 'pageType', 'carType', 'corporateId', 'top_features', 'comfort_features', 'interior_features', 'exterior_features', 'safety_features', 'Color', 'Engine Type', 'Displacement', 'Max Power', 'Max Torque', 'No of Cylinder', 'Values per Cylinder', 'Value Configuration', 'BoreX Stroke', 'Turbo Charger', 'Super Charger', 'Length', 'Width', 'Height', 'Wheel Base', 'Front Tread', 'Rear Tread', 'Kerb Weight', 'Gross Weight', 'Gear Box', 'Drive Type', 'Seating Capacity', 'Steering Type', 'Turning Radius', 'Front Brake Type', 'Rear Brake Type', 'Top Speed', 'Acceleration', 'Tyre Type', 'No Door Numbers', 'Cargo Volumn', 'model_type_new', 'originalLocation', 'page_title', 'compare_car_details', 'seller_type_new', 'seating_capacity_new', 'transmission_type', 'model_year_new', 'car_type_new', 'model_name', 'model_id_new', 'oem_name', 'price_range_segment', 'dealer_id_new', 'state', 'city_id_new', 'fuel_type', 'max_engine_capacity_new', 'transmission_type_new', 'km_driven', 'model_new', 'vehicle_type_new', 'brand_name', 'engine_cc', 'fuel_type_new', 'car_segment', 'used_carid', 'city_name_new', 'page_type', 'city_y', 'engine_capacity_new', 'body_type_new', 'owner_type_new', 'mileage_new', 'dealer_id', 'model_year', 'variant_name', 'price_segment', 'dynx_event', 'dynx_pagetype', 'dynx_itemid_y', 'dynx_itemid2_y', 'dynx_totalvalue_y', 'brand_new', 'variant_new', 'exterior_color', 'min_engine_capacity_new', 'owner_type', 'price_segment_new', 'template_name_new', 'page_template', 'template_Type_new', 'experiment', 'Fuel Suppy System', 'Compression Ratio', 'Alloy Wheel Size', 'Ground Clearance Unladen']\n"
          ]
        }
      ]
    },
    {
      "cell_type": "code",
      "source": [
        "print(len(column_names))"
      ],
      "metadata": {
        "colab": {
          "base_uri": "https://localhost:8080/"
        },
        "id": "9VKWXyui175X",
        "outputId": "300fdc29-c1b2-4776-d46d-366d6ec0479a"
      },
      "execution_count": null,
      "outputs": [
        {
          "output_type": "stream",
          "name": "stdout",
          "text": [
            "140\n"
          ]
        }
      ]
    },
    {
      "cell_type": "code",
      "source": [
        "original_count=car.count()\n",
        "original_count"
      ],
      "metadata": {
        "id": "kD20cObSY-lz",
        "colab": {
          "base_uri": "https://localhost:8080/"
        },
        "outputId": "e9850ff7-97f3-43f0-b161-6bebe21c0592"
      },
      "execution_count": null,
      "outputs": [
        {
          "output_type": "execute_result",
          "data": {
            "text/plain": [
              "37814"
            ]
          },
          "metadata": {},
          "execution_count": 13
        }
      ]
    },
    {
      "cell_type": "code",
      "source": [
        "boolean_columns = [col for col, dtype in car.dtypes if dtype == \"boolean\"]\n",
        "print(boolean_columns)\n"
      ],
      "metadata": {
        "colab": {
          "base_uri": "https://localhost:8080/"
        },
        "id": "V_YyOrUk_uOJ",
        "outputId": "ccdec40a-6027-425e-d256-a874b0d46d15"
      },
      "execution_count": null,
      "outputs": [
        {
          "output_type": "stream",
          "name": "stdout",
          "text": [
            "['threesixty', 'tmGaadiStore', 'compare']\n"
          ]
        }
      ]
    },
    {
      "cell_type": "code",
      "source": [
        "from pyspark.sql.types import DoubleType\n",
        "car = car.withColumn(\"threesixty\", car[\"threesixty\"].cast(\"double\"))\n",
        "car = car.withColumn(\"compare\", car[\"compare\"].cast(\"double\"))\n",
        "car = car.withColumn('tmGaadiStore', car[\"tmGaadiStore\"].cast(\"double\"))"
      ],
      "metadata": {
        "id": "ByqGRsPY-8u4"
      },
      "execution_count": null,
      "outputs": []
    },
    {
      "cell_type": "code",
      "source": [
        "from pyspark.sql.functions import count, when, col\n",
        "car.select([count(when(col(c).isNull(), c)).alias(c) for c in car.columns]).show()\n"
      ],
      "metadata": {
        "id": "_8vO9mTGZF45",
        "colab": {
          "base_uri": "https://localhost:8080/"
        },
        "outputId": "96af60ae-f397-41c0-f060-ba4a162f35c1"
      },
      "execution_count": null,
      "outputs": [
        {
          "output_type": "stream",
          "name": "stdout",
          "text": [
            "+--------+----+-----+---+---+---+---+---+---+------+--------+----------+---+---+-----+-------+---+----------------+-----------+------+-----+-----+---+-------------+---+-----------+------+-----+-----+---------+------------+----+---+------------+---------+----------------+-------------+--------------+-----------------+--------+-----------+------+-------+------------+--------+-------+-----------+------------+----------------+-----------------+-----------------+---------------+-----+-----------+------------+---------+----------+--------------+-------------------+-------------------+------------+-------------+-------------+------+-----+------+----------+-----------+----------+-----------+------------+--------+----------+----------------+-------------+--------------+----------------+---------------+---------+------------+---------+---------------+------------+--------------+----------------+----------+-------------------+---------------+--------------------+-----------------+--------------+------------+----------+------------+--------+-------------------+-------------+-----+-----------+---------+-----------------------+---------------------+---------+---------+----------------+----------+---------+-------------+-----------+----------+-------------+---------+------+-------------------+-------------+--------------+-----------+---------+----------+------------+-------------+----------+-------------+-------------+--------------+-----------------+---------+-----------+--------------+-----------------------+----------+-----------------+-----------------+-------------+-----------------+----------+-----------------+-----------------+----------------+------------------------+\n",
            "|position| loc|myear| bt| tt| ft| km| ip| pi|images|imgCount|threesixty|dvn|oem|model|modelId|vid|centralVariantId|variantName|city_x|vlink|price| pu|discountValue|msp|priceSaving|pageNo|utype|views|usedCarId|usedCarSkuId|ucid|sid|tmGaadiStore|emiwidget|transmissionType|dynx_itemid_x|dynx_itemid2_x|dynx_totalvalue_x|leadForm|leadFormCta|offers|compare|brandingIcon|pageType|carType|corporateId|top_features|comfort_features|interior_features|exterior_features|safety_features|Color|Engine Type|Displacement|Max Power|Max Torque|No of Cylinder|Values per Cylinder|Value Configuration|BoreX Stroke|Turbo Charger|Super Charger|Length|Width|Height|Wheel Base|Front Tread|Rear Tread|Kerb Weight|Gross Weight|Gear Box|Drive Type|Seating Capacity|Steering Type|Turning Radius|Front Brake Type|Rear Brake Type|Top Speed|Acceleration|Tyre Type|No Door Numbers|Cargo Volumn|model_type_new|originalLocation|page_title|compare_car_details|seller_type_new|seating_capacity_new|transmission_type|model_year_new|car_type_new|model_name|model_id_new|oem_name|price_range_segment|dealer_id_new|state|city_id_new|fuel_type|max_engine_capacity_new|transmission_type_new|km_driven|model_new|vehicle_type_new|brand_name|engine_cc|fuel_type_new|car_segment|used_carid|city_name_new|page_type|city_y|engine_capacity_new|body_type_new|owner_type_new|mileage_new|dealer_id|model_year|variant_name|price_segment|dynx_event|dynx_pagetype|dynx_itemid_y|dynx_itemid2_y|dynx_totalvalue_y|brand_new|variant_new|exterior_color|min_engine_capacity_new|owner_type|price_segment_new|template_name_new|page_template|template_Type_new|experiment|Fuel Suppy System|Compression Ratio|Alloy Wheel Size|Ground Clearance Unladen|\n",
            "+--------+----+-----+---+---+---+---+---+---+------+--------+----------+---+---+-----+-------+---+----------------+-----------+------+-----+-----+---+-------------+---+-----------+------+-----+-----+---------+------------+----+---+------------+---------+----------------+-------------+--------------+-----------------+--------+-----------+------+-------+------------+--------+-------+-----------+------------+----------------+-----------------+-----------------+---------------+-----+-----------+------------+---------+----------+--------------+-------------------+-------------------+------------+-------------+-------------+------+-----+------+----------+-----------+----------+-----------+------------+--------+----------+----------------+-------------+--------------+----------------+---------------+---------+------------+---------+---------------+------------+--------------+----------------+----------+-------------------+---------------+--------------------+-----------------+--------------+------------+----------+------------+--------+-------------------+-------------+-----+-----------+---------+-----------------------+---------------------+---------+---------+----------------+----------+---------+-------------+-----------+----------+-------------+---------+------+-------------------+-------------+--------------+-----------+---------+----------+------------+-------------+----------+-------------+-------------+--------------+-----------------+---------+-----------+--------------+-----------------------+----------+-----------------+-----------------+-------------+-----------------+----------+-----------------+-----------------+----------------+------------------------+\n",
            "|       0|5851|    0| 19|  0|  0|  0|  0|680|     0|       0|         0|  0|  0|    0|      0|  0|               0|          0|     0|    0|    0|  0|            0|  0|      37812|     0|    0|    0|        0|           0|   0|  0|           0|        0|               0|            0|             0|                0|       0|       5301|     0|      0|       37051|       0|      0|          0|           0|               0|                0|                0|              0|  160|        868|          53|      231|       231|           143|                228|               7831|       25177|         2176|         5348|   362|  371|   363|       555|      15875|     15876|      13139|       20890|     407|      4496|              18|          808|          5848|             327|            326|    15036|       13988|      257|             44|        6732|             0|           37814|         0|              37814|              0|                  29|                0|             0|           0|         0|           0|       0|                  0|            0|    0|          0|        0|                     53|                    0|        0|        0|               0|         0|      161|            0|         19|         0|            0|        0|     0|                161|            0|             0|        901|        0|         0|           0|            0|         0|            0|            0|             0|                0|        0|          0|           123|                     53|         0|                0|                0|            0|                0|         0|             5502|            27642|           13146|                   35662|\n",
            "+--------+----+-----+---+---+---+---+---+---+------+--------+----------+---+---+-----+-------+---+----------------+-----------+------+-----+-----+---+-------------+---+-----------+------+-----+-----+---------+------------+----+---+------------+---------+----------------+-------------+--------------+-----------------+--------+-----------+------+-------+------------+--------+-------+-----------+------------+----------------+-----------------+-----------------+---------------+-----+-----------+------------+---------+----------+--------------+-------------------+-------------------+------------+-------------+-------------+------+-----+------+----------+-----------+----------+-----------+------------+--------+----------+----------------+-------------+--------------+----------------+---------------+---------+------------+---------+---------------+------------+--------------+----------------+----------+-------------------+---------------+--------------------+-----------------+--------------+------------+----------+------------+--------+-------------------+-------------+-----+-----------+---------+-----------------------+---------------------+---------+---------+----------------+----------+---------+-------------+-----------+----------+-------------+---------+------+-------------------+-------------+--------------+-----------+---------+----------+------------+-------------+----------+-------------+-------------+--------------+-----------------+---------+-----------+--------------+-----------------------+----------+-----------------+-----------------+-------------+-----------------+----------+-----------------+-----------------+----------------+------------------------+\n",
            "\n"
          ]
        }
      ]
    },
    {
      "cell_type": "code",
      "source": [
        "\n",
        "from pyspark.sql.functions import col\n",
        "\n",
        "# assuming your dataframe is called \"df\"\n",
        "null_counts = car.select([col(c).isNull().alias(c) for c in car.columns]).agg(*[count(c).alias(c) for c in car.columns])\n",
        "\n",
        "columns_with_nulls = [c for c in null_counts.columns if null_counts.select(c).collect()[0][0] > 0 ]\n",
        "\n",
        "print(\"Columns with null values: \", columns_with_nulls)\n"
      ],
      "metadata": {
        "colab": {
          "base_uri": "https://localhost:8080/"
        },
        "id": "xFIQK0DvIPsf",
        "outputId": "fba01184-3b07-4029-ebec-65767b753b40"
      },
      "execution_count": null,
      "outputs": [
        {
          "output_type": "stream",
          "name": "stdout",
          "text": [
            "Columns with null values:  ['position', 'loc', 'myear', 'bt', 'tt', 'ft', 'km', 'ip', 'pi', 'images', 'imgCount', 'threesixty', 'dvn', 'oem', 'model', 'modelId', 'vid', 'centralVariantId', 'variantName', 'city_x', 'vlink', 'price', 'pu', 'discountValue', 'msp', 'priceSaving', 'pageNo', 'utype', 'views', 'usedCarId', 'usedCarSkuId', 'ucid', 'sid', 'tmGaadiStore', 'emiwidget', 'transmissionType', 'dynx_itemid_x', 'dynx_itemid2_x', 'dynx_totalvalue_x', 'leadForm', 'leadFormCta', 'offers', 'compare', 'brandingIcon', 'pageType', 'carType', 'corporateId', 'top_features', 'comfort_features', 'interior_features', 'exterior_features', 'safety_features', 'Color', 'Engine Type', 'Displacement', 'Max Power', 'Max Torque', 'No of Cylinder', 'Values per Cylinder', 'Value Configuration', 'BoreX Stroke', 'Turbo Charger', 'Super Charger', 'Length', 'Width', 'Height', 'Wheel Base', 'Front Tread', 'Rear Tread', 'Kerb Weight', 'Gross Weight', 'Gear Box', 'Drive Type', 'Seating Capacity', 'Steering Type', 'Turning Radius', 'Front Brake Type', 'Rear Brake Type', 'Top Speed', 'Acceleration', 'Tyre Type', 'No Door Numbers', 'Cargo Volumn', 'model_type_new', 'originalLocation', 'page_title', 'compare_car_details', 'seller_type_new', 'seating_capacity_new', 'transmission_type', 'model_year_new', 'car_type_new', 'model_name', 'model_id_new', 'oem_name', 'price_range_segment', 'dealer_id_new', 'state', 'city_id_new', 'fuel_type', 'max_engine_capacity_new', 'transmission_type_new', 'km_driven', 'model_new', 'vehicle_type_new', 'brand_name', 'engine_cc', 'fuel_type_new', 'car_segment', 'used_carid', 'city_name_new', 'page_type', 'city_y', 'engine_capacity_new', 'body_type_new', 'owner_type_new', 'mileage_new', 'dealer_id', 'model_year', 'variant_name', 'price_segment', 'dynx_event', 'dynx_pagetype', 'dynx_itemid_y', 'dynx_itemid2_y', 'dynx_totalvalue_y', 'brand_new', 'variant_new', 'exterior_color', 'min_engine_capacity_new', 'owner_type', 'price_segment_new', 'template_name_new', 'page_template', 'template_Type_new', 'experiment', 'Fuel Suppy System', 'Compression Ratio', 'Alloy Wheel Size', 'Ground Clearance Unladen']\n"
          ]
        }
      ]
    },
    {
      "cell_type": "code",
      "source": [
        "# D with null values\n",
        "car = car.fillna(\"0\")"
      ],
      "metadata": {
        "id": "L-YWlcYh9xbi"
      },
      "execution_count": null,
      "outputs": []
    },
    {
      "cell_type": "code",
      "source": [
        "car.show()"
      ],
      "metadata": {
        "colab": {
          "base_uri": "https://localhost:8080/"
        },
        "id": "asaswkxWA0j6",
        "outputId": "1b608f7f-b7a9-4aee-8dda-b5fdf797b73b"
      },
      "execution_count": null,
      "outputs": [
        {
          "output_type": "stream",
          "name": "stdout",
          "text": [
            "+--------+----------------+-----+---------+------+---+--------+---+--------------------+--------------------+--------+----------+--------------------+-------+------------------+-------+--------------------+----------------+--------------------+---------+--------------------+------------+---------+-------------+---+-----------+------+----------+-----+---------+--------------------+-------+--------------------+------------+--------------------+----------------+-------------+--------------+-----------------+--------+-------------------+------+-------+--------------------+--------+---------+-----------+--------------------+--------------------+--------------------+--------------------+--------------------+----------------+--------------------+------------+----------------+---------------+--------------+-------------------+-------------------+--------------+-------------+-------------+-------+-------+-------+----------+-----------+----------+-----------+------------+--------------------+---------------+----------------+-------------+--------------+----------------+---------------+---------+-------------+--------------------+---------------+------------+--------------+----------------+--------------------+-------------------+---------------+--------------------+-----------------+--------------+------------+------------------+------------+--------+-------------------+-------------+-------------+-----------+---------+-----------------------+---------------------+---------+------------------+----------------+----------+-------------+-------------+-----------+----------+-------------+---------------+---------+-------------------+--------------+--------------+-----------+---------+----------+--------------------+-------------+------------------+-------------+-------------+--------------+-----------------+---------+--------------------+----------------+-----------------------+----------+-----------------+--------------------+--------------------+-----------------+----------+--------------------+-----------------+----------------+------------------------+\n",
            "|position|             loc|myear|       bt|    tt| ft|      km| ip|                  pi|              images|imgCount|threesixty|                 dvn|    oem|             model|modelId|                 vid|centralVariantId|         variantName|   city_x|               vlink|       price|       pu|discountValue|msp|priceSaving|pageNo|     utype|views|usedCarId|        usedCarSkuId|   ucid|                 sid|tmGaadiStore|           emiwidget|transmissionType|dynx_itemid_x|dynx_itemid2_x|dynx_totalvalue_x|leadForm|        leadFormCta|offers|compare|        brandingIcon|pageType|  carType|corporateId|        top_features|    comfort_features|   interior_features|   exterior_features|     safety_features|           Color|         Engine Type|Displacement|       Max Power|     Max Torque|No of Cylinder|Values per Cylinder|Value Configuration|  BoreX Stroke|Turbo Charger|Super Charger| Length|  Width| Height|Wheel Base|Front Tread|Rear Tread|Kerb Weight|Gross Weight|            Gear Box|     Drive Type|Seating Capacity|Steering Type|Turning Radius|Front Brake Type|Rear Brake Type|Top Speed| Acceleration|           Tyre Type|No Door Numbers|Cargo Volumn|model_type_new|originalLocation|          page_title|compare_car_details|seller_type_new|seating_capacity_new|transmission_type|model_year_new|car_type_new|        model_name|model_id_new|oem_name|price_range_segment|dealer_id_new|        state|city_id_new|fuel_type|max_engine_capacity_new|transmission_type_new|km_driven|         model_new|vehicle_type_new|brand_name|    engine_cc|fuel_type_new|car_segment|used_carid|city_name_new|      page_type|   city_y|engine_capacity_new| body_type_new|owner_type_new|mileage_new|dealer_id|model_year|        variant_name|price_segment|        dynx_event|dynx_pagetype|dynx_itemid_y|dynx_itemid2_y|dynx_totalvalue_y|brand_new|         variant_new|  exterior_color|min_engine_capacity_new|owner_type|price_segment_new|   template_name_new|       page_template|template_Type_new|experiment|   Fuel Suppy System|Compression Ratio|Alloy Wheel Size|Ground Clearance Unladen|\n",
            "+--------+----------------+-----+---------+------+---+--------+---+--------------------+--------------------+--------+----------+--------------------+-------+------------------+-------+--------------------+----------------+--------------------+---------+--------------------+------------+---------+-------------+---+-----------+------+----------+-----+---------+--------------------+-------+--------------------+------------+--------------------+----------------+-------------+--------------+-----------------+--------+-------------------+------+-------+--------------------+--------+---------+-----------+--------------------+--------------------+--------------------+--------------------+--------------------+----------------+--------------------+------------+----------------+---------------+--------------+-------------------+-------------------+--------------+-------------+-------------+-------+-------+-------+----------+-----------+----------+-----------+------------+--------------------+---------------+----------------+-------------+--------------+----------------+---------------+---------+-------------+--------------------+---------------+------------+--------------+----------------+--------------------+-------------------+---------------+--------------------+-----------------+--------------+------------+------------------+------------+--------+-------------------+-------------+-------------+-----------+---------+-----------------------+---------------------+---------+------------------+----------------+----------+-------------+-------------+-----------+----------+-------------+---------------+---------+-------------------+--------------+--------------+-----------+---------+----------+--------------------+-------------+------------------+-------------+-------------+--------------+-----------------+---------+--------------------+----------------+-----------------------+----------+-----------------+--------------------+--------------------+-----------------+----------+--------------------+-----------------+----------------+------------------------+\n",
            "|       1|     Gomti Nagar| 2016|Hatchback|Manual|CNG|  69,162|  0|https://images10....|[{'img': 'https:/...|      15|       0.0|Maruti Wagon R LX...| Maruti|    Maruti Wagon R|    627|Maruti Wagon R LX...|            4312|             LXI CNG|  Lucknow|/buy-used-car-det...| ₹ 3.70 Lakh| 3,70,000|            0|  0|          0|     2|    Dealer|  546|  3369178|7111bf25-97af-47f...|3622006|911820426099DD719...|         0.0|{'title': 'EMI st...|          Manual|      3369178|          4312|           370000|       0|                  0|    {}|    1.0|https://images10....|     ucr|corporate|         13|['Power Steering'...|['Power Steering'...|['Air Conditioner...|['Adjustable Head...|['Centeral Lockin...|          Silver|         K10B Engine|       998.0|58.16bhp@6200rpm|   77Nm@3500rpm|           3.0|                4.0|               DOHC|    69 x 72 mm|           No|           No| 3599mm| 1495mm| 1700mm|    2400mm|     1295mm|    1290mm|      960kg|      1350kg|             5 Speed|            FWD|             5.0|        Power|    4.6 metres| Ventilated Disc|           Drum| 137 kmph| 15.9 Seconds|      Tubeless Tyres|            5.0|  180-liters|          used|               0|Used Maruti Wagon...|                  0|         dealer|                 5.0|           manual|          2016|        used|    maruti wagon r|         344|  maruti|        2lakh-5lakh|            0|uttar pradesh|        320|      cng|                  998.0|               manual|    69162|    Maruti Wagon R|             car|    maruti| 500cc-1000cc|          cng|  Hatchback|   3369178|      lucknow|used-car.detail|  lucknow|       500cc-1000cc|Hatchback cars|         first|  26.6 kmpl|        0|      2016|maruti wagon r lx...|  2lakh-5lakh|dynRmktParamsReady|  offerdetail|      3369178|          4312|           370000|   maruti|maruti wagon r lx...|          Silver|                  998.0|     first|      2lakh-5lakh|used cardetail v2...|Used Car > Detail...|             used|   control|                   0|                0|               0|                       0|\n",
            "|       2|   Borivali West| 2015|Hatchback|Manual|CNG|  45,864|  0|https://images10....|[{'img': 'https:/...|      15|       0.0|Maruti Celerio Gr...| Maruti|    Maruti Celerio|    955|Maruti Celerio Gr...|            3984|           Green VXI|   Mumbai|/buy-used-car-det...| ₹ 3.65 Lakh| 3,65,000|            0|  0|          0|     2|    Dealer|  670|  3364909|c309efc1-efaf-4f8...|3617455|ED2C61CD8482924F8...|         0.0|{'title': 'EMI st...|          Manual|      3364909|          3984|           365000|       0|                  0|    {}|    1.0|https://images10....|     ucr|corporate|         13|['Power Steering'...|['Power Steering'...|['Air Conditioner...|['Adjustable Head...|['Centeral Lockin...|            Grey|        K10B Engine |       998.0| 58.2bhp@6000rpm|   78Nm@3500rpm|           3.0|                4.0|               DOHC|    73 X 82 mm|           No|           No| 3600mm| 1600mm| 1560mm|    2425mm|     1420mm|    1410mm|      915kg|      1350kg|            5 Speed |            FWD|             5.0|        Power|    4.7 metres| Ventilated Disc|           Drum| 150 Kmph|15.05 Seconds|    Tubeless, Radial|            5.0|  235-litres|          used|               0|Used Maruti Celer...|                  0|         dealer|                 5.0|           manual|          2015|        used|    maruti celerio|         323|  maruti|        2lakh-5lakh|            0|  maharashtra|        201|      cng|                  998.0|               manual|    45864|    Maruti Celerio|             car|    maruti| 500cc-1000cc|          cng|  Hatchback|   3364909|       mumbai|used-car.detail|   mumbai|       500cc-1000cc|Hatchback cars|         first| 31.79 kmpl|        0|      2015|maruti celerio gr...|  2lakh-5lakh|dynRmktParamsReady|  offerdetail|      3364909|          3984|           365000|   maruti|maruti celerio gr...|            Grey|                  998.0|     first|      2lakh-5lakh|used cardetail v2...|Used Car > Detail...|             used|   control|Intelligent-Gas P...|           11.0:1|               0|                       0|\n",
            "|       3|          JASOLA| 2015|    Sedan|Manual|CNG|  81,506|  0|https://images10....|[{'img': 'https:/...|      15|       0.0|Honda Amaze S Plu...|  Honda|       Honda Amaze|    210|Honda Amaze S Plu...|            1177|       S Plus i-VTEC|New Delhi|/buy-used-car-det...| ₹ 4.21 Lakh| 4,21,000|            0|  0|          0|     2|    Dealer| 1869|  3364372|7609f710-0c97-4f0...|3616831|2581A2C3C9B996105...|         0.0|{'title': 'EMI st...|          Manual|      3364372|          1177|           421000|       0|                  0|    {}|    1.0|https://images10....|     ucr|corporate|         13|['Power Steering'...|['Power Steering'...|['Air Conditioner...|['Adjustable Head...|['Centeral Lockin...|          Silver|i-VTEC Petrol Engine|      1198.0| 86.7bhp@6000rpm|  109Nm@4500rpm|           4.0|                4.0|               SOHC|             0|           No|           No| 3990mm| 1680mm| 1505mm|    2405mm|          0|         0|      950kg|           0|             5 Speed|            FWD|             5.0|        Power|    4.5 metres|            Disc|           Drum| 160 Kmph|   15 Seconds|     Tubeless,Radial|            4.0|  400-litres|          used|               0|Used Honda Amaze ...|                  0|         dealer|                 5.0|           manual|          2015|        used|       honda amaze|         122|   honda|        2lakh-5lakh|            0|        delhi|         49|      cng|                 1198.0|               manual|    81506|       Honda Amaze|             car|     honda|1000cc-2000cc|          cng|      Sedan|   3364372|    new delhi|used-car.detail|new delhi|      1000cc-2000cc|    Sedan cars|        second|    18 kmpl|        0|      2015|honda amaze s plu...|  2lakh-5lakh|dynRmktParamsReady|  offerdetail|      3364372|          1177|           421000|    honda|honda amaze s plu...|          Silver|                 1198.0|    second|      2lakh-5lakh|used cardetail v2...|Used Car > Detail...|             used|   control|                   0|                0|               0|                       0|\n",
            "|       4|          jasola| 2013|Hatchback|Manual|CNG|1,15,893|  0|                   0|       [{'img': ''}]|       0|       0.0|Maruti Wagon R LX...| Maruti|    Maruti Wagon R|    630|Maruti Wagon R LX...|            4351|             LXI CNG|New Delhi|/buy-used-car-det...| ₹ 2.40 Lakh| 2,40,000|            0|  0|          0|     2|    Dealer| 2679|  3375322|278b76e3-5539-4a5...|3628248|0BA84A3B9C6A6C827...|         0.0|{'title': 'EMI st...|          Manual|      3375322|          4351|           240000|       0|                  0|    {}|    1.0|https://images10....|     ucr|corporate|         13|['Power Steering'...|['Power Steering'...|['Air Conditioner...|['Adjustable Head...|['Centeral Lockin...|          Silver|K Series Petrol E...|       998.0| 58.2bhp@6200rpm|   77Nm@3500rpm|           3.0|                4.0|                  0|             0|           No|           No| 3595mm| 1475mm| 1700mm|    2400mm|     1295mm|    1290mm|      960kg|      1350kg|             5 Speed|            FWD|             5.0|        Power|     4.6metres| Ventilated Disc|           Drum|        0|            0|    Tubeless, Radial|            4.0|           0|          used|               0|Used Maruti Wagon...|                  0|         dealer|                 5.0|           manual|          2013|        used|    maruti wagon r|         344|  maruti|        2lakh-5lakh|            0|        delhi|         49|      cng|                  998.0|               manual|   115893|    Maruti Wagon R|             car|    maruti| 500cc-1000cc|          cng|  Hatchback|   3375322|    new delhi|used-car.detail|new delhi|       500cc-1000cc|Hatchback cars|        second|  26.2 kmpl|        0|      2013|maruti wagon r lx...|  2lakh-5lakh|dynRmktParamsReady|  offerdetail|      3375322|          4351|           240000|   maruti|maruti wagon r lx...|          Silver|                  998.0|    second|      2lakh-5lakh|used cardetail v2...|Used Car > Detail...|             used|   control|                MPFI|                0|              13|                       0|\n",
            "|       5|   mumbai g.p.o.| 2022|      MUV|Manual|CNG|  18,900|  0|https://images10....|[{'img': 'https:/...|       6|       0.0|Maruti Ertiga VXI...| Maruti|     Maruti Ertiga|   3298|Maruti Ertiga VXI...|            8957|             VXI CNG|   Mumbai|/used-car-details...|₹ 11.75 Lakh|11,75,000|            0|  0|          0|     2|    Dealer|    0|  3398993|b1eab99b-a606-48d...|3654032|722AFD391803CA188...|         0.0|{'title': 'EMI st...|          Manual|      3398993|          8957|          1175000|       1|View Seller Details|    {}|    1.0|                   0|     cls|  partner|          7|['Power Steering'...|['Power Steering'...|['Air Conditioner...|['Adjustable Head...|['Anti Lock Braki...|           White|                K15C|      1462.0|86.63bhp@5500rpm|121.5nm@4200rpm|           4.0|                4.0|                  0|             0|            0|            0| 4395mm|   1735|   1690|      2740|          0|         0|  1250-1255|        1820|             5-Speed|            2WD|             7.0|            0|           5.2|            Disc|           Drum|        0|            0|    Tubeless, Radial|            5.0|           0|          used|               0|Used Maruti Ertig...|                  0|         dealer|                 7.0|           manual|          2022|        used|     maruti ertiga|         327|  maruti|            10+lakh|            0|  maharashtra|        201|      cng|                 1462.0|               manual|    18900|     Maruti Ertiga|             car|    maruti|1000cc-2000cc|          cng|        MUV|   3398993|       mumbai|used-car.detail|   mumbai|      1000cc-2000cc|      MUV cars|         first|26.11 km/kg|        0|      2022|maruti ertiga vxi...|      10+lakh|dynRmktParamsReady|  offerdetail|      3398993|          8957|          1175000|   maruti|maruti ertiga vxi...|           White|                 1462.0|     first|          10+lakh|   used cardetail v2|Used Car > Detail...|             used|   control|                   0|        12.0+-.03|               0|                       0|\n",
            "|       6|  bengali market| 2012|Hatchback|Manual|CNG|  60,000|  0|https://images10....|[{'img': 'https:/...|      17|       0.0|Maruti Wagon R LX...| Maruti|    Maruti Wagon R|    627|Maruti Wagon R LX...|            4312|             LXI CNG|New Delhi|/used-car-details...| ₹ 2.50 Lakh| 2,50,000|            0|  0|          0|     2|    Dealer|    0|  3398990|e030b70c-56b9-44b...|3654030|9A3C0B9A99AF19C77...|         0.0|{'title': 'EMI st...|          Manual|      3398990|          4312|           250000|       1|View Seller Details|    {}|    1.0|                   0|     cls|  partner|          7|['Power Steering'...|['Power Steering'...|['Air Conditioner...|['Adjustable Head...|['Centeral Lockin...|           White|         K10B Engine|       998.0|58.16bhp@6200rpm|   77Nm@3500rpm|           3.0|                4.0|               DOHC|    69 x 72 mm|           No|           No| 3599mm| 1495mm| 1700mm|    2400mm|     1295mm|    1290mm|      960kg|      1350kg|             5 Speed|            FWD|             5.0|        Power|    4.6 metres| Ventilated Disc|           Drum| 137 kmph| 15.9 Seconds|      Tubeless Tyres|            5.0|  180-liters|          used|               0|Used Maruti Wagon...|                  0|         dealer|                 5.0|           manual|          2012|        used|    maruti wagon r|         344|  maruti|        2lakh-5lakh|            0|        delhi|         49|      cng|                  998.0|               manual|    60000|    Maruti Wagon R|             car|    maruti| 500cc-1000cc|          cng|  Hatchback|   3398990|    new delhi|used-car.detail|new delhi|       500cc-1000cc|Hatchback cars|         first|  26.6 kmpl|        0|      2012|maruti wagon r lx...|  2lakh-5lakh|dynRmktParamsReady|  offerdetail|      3398990|          4312|           250000|   maruti|maruti wagon r lx...|           White|                  998.0|     first|      2lakh-5lakh|   used cardetail v2|Used Car > Detail...|             used|   control|                   0|                0|               0|                       0|\n",
            "|       7|  bengali market| 2010|Hatchback|Manual|CNG|  67,000|  0|https://images10....|[{'img': 'https:/...|      12|       0.0|Maruti Alto Green...| Maruti|       Maruti Alto|    578|Maruti Alto Green...|            3905|     Green LXi (CNG)|New Delhi|/used-car-details...| ₹ 1.45 Lakh| 1,45,000|            0|  0|          0|     2|    Dealer|    0|  3398975|6ca9c00f-b755-44e...|3654015|D08EACD2A15F65390...|         0.0|                  {}|          Manual|      3398975|          3905|           145000|       1|View Seller Details|    {}|    1.0|                   0|     cls|  partner|          7|['Power Steering'...|['Power Steering'...|['Air Conditioner...|['Adjustable Head...|['Power Door Lock...|            Blue|      In Line Engine|       796.0| 38.4bhp@6200rpm|   62Nm@3000rpm|           3.0|                4.0|               SOHC|68.5 x 72.0 mm|           No|           No| 3495mm| 1475mm| 1460mm|    2360mm|     1295mm|    1290mm|      705kg|      1140kg|Five Speed Manual...|Two Wheel Drive|             5.0|        Power|          4.6m|            Disc|           Drum| 137km/hr| 18.2 seconds|     Tubeless,Radial|            5.0|           0|          used|               0|Used Maruti Alto ...|                  0|         dealer|                 5.0|           manual|          2010|        used|       maruti alto|         319|  maruti|        0lakh-2lakh|            0|        delhi|         49|      cng|                  796.0|               manual|    67000|       Maruti Alto|             car|    maruti| 500cc-1000cc|          cng|  Hatchback|   3398975|    new delhi|used-car.detail|new delhi|       500cc-1000cc|Hatchback cars|         first| 26.83 kmpl|        0|      2010|maruti alto green...|  0lakh-2lakh|dynRmktParamsReady|  offerdetail|      3398975|          3905|           145000|   maruti|maruti alto green...|            Blue|                  796.0|     first|      0lakh-2lakh|   used cardetail v2|Used Car > Detail...|             used|   control|                   0|                0|              12|                       0|\n",
            "|       8|     preet vihar| 2017|Hatchback|Manual|CNG|  58,000|  0|https://images10....|[{'img': 'https:/...|       1|       0.0|Hyundai Grand i10...|Hyundai| Hyundai Grand i10|    254|Hyundai Grand i10...|            6921|1.2 Kappa Magna C...|New Delhi|/used-car-details...| ₹ 4.65 Lakh| 4,65,000|            0|  0|          0|     2|    Dealer|    1|  3398958|27f36089-ecf1-415...|3653997|2386E069895250A78...|         0.0|{'title': 'EMI st...|          Manual|      3398958|          6921|           465000|       1|View Seller Details|    {}|    1.0|                   0|     cls|  partner|          7|['Power Steering'...|['Power Steering'...|['Air Conditioner...|['Adjustable Head...|['Anti Lock Braki...|            Grey|Kappa VTVT Petrol...|      1197.0|65.39bhp@6000rpm|   98Nm@4000rpm|           4.0|                4.0|               DOHC|             0|           No|           No| 3765mm| 1660mm| 1520mm|    2425mm|     1479mm|    1493mm|          0|           0|             5 Speed|            FWD|             5.0|        Power|    4.8 metres|            Disc|           Drum| 165 Kmph| 12.9 Seconds|            Tubeless|            5.0|         256|          used|               0|Used Hyundai Gran...|                  0|         dealer|                 5.0|           manual|          2017|        used| hyundai grand i10|         143| hyundai|        2lakh-5lakh|            0|        delhi|         49|      cng|                 1197.0|               manual|    58000| Hyundai Grand i10|             car|   hyundai|1000cc-2000cc|          cng|  Hatchback|   3398958|    new delhi|used-car.detail|new delhi|      1000cc-2000cc|Hatchback cars|         first| 18.9 km/kg|        0|      2017|hyundai grand i10...|  2lakh-5lakh|dynRmktParamsReady|  offerdetail|      3398958|          6921|           465000|  hyundai|hyundai grand i10...|            Grey|                 1197.0|     first|      2lakh-5lakh|   used cardetail v2|Used Car > Detail...|             used|   control|                MPFI|                0|               0|                       0|\n",
            "|       9|       dundahera| 2021|Hatchback|Manual|CNG|  54,097|  0|https://images10....|[{'img': 'https:/...|      17|       0.0|Maruti Wagon R CN...| Maruti|    Maruti Wagon R|    627|Maruti Wagon R CN...|            7583|             CNG LXI|  Gurgaon|/used-car-details...| ₹ 5.60 Lakh| 5,60,000|            0|  0|          0|     2|    Dealer|   10|  3398719|4ebf53b7-8910-43c...|3653753|2554C03B4EA4A61B8...|         0.0|{'title': 'EMI st...|          Manual|      3398719|          7583|           560000|       1|View Seller Details|    {}|    1.0|                   0|     cls|  partner|          7|['Power Steering'...|['Power Steering'...|['Air Conditioner...|['Adjustable Head...|['Anti Lock Braki...|          Silver|  K10B Petrol Engine|       998.0|58.33bhp@5500rpm|   78Nm@3500rpm|           3.0|                4.0|               DOHC|  73 x 79.5 mm|           No|           No|3655 mm|1620 mm|1675 mm|   2435 mm|          0|         0|  905-910kg|      1340kg|             5 Speed|            FWD|             5.0|        Power|    4.7 metres|            Disc|           Drum|        0| 18.6 Seconds|Tubeless Tyres, R...|            5.0|  341 Litres|          used|               0|Used Maruti Wagon...|                  0|         dealer|                 5.0|           manual|          2021|        used|    maruti wagon r|         344|  maruti|        5lakh-8lakh|            0|      haryana|         74|      cng|                  998.0|               manual|    54097|    Maruti Wagon R|             car|    maruti| 500cc-1000cc|          cng|  Hatchback|   3398719|      gurgaon|used-car.detail|  gurgaon|       500cc-1000cc|Hatchback cars|         first| 32.52 kmpl|        0|      2021|maruti wagon r cn...|  5lakh-8lakh|dynRmktParamsReady|  offerdetail|      3398719|          7583|           560000|   maruti|maruti wagon r cn...|          Silver|                  998.0|     first|      5lakh-8lakh|   used cardetail v2|Used Car > Detail...|             used|   control|                MPFI|                0|               0|                       0|\n",
            "|      10|  bengali market| 2011|Hatchback|Manual|CNG|  67,000|  0|https://images10....|[{'img': 'https:/...|       7|       0.0|Maruti Wagon R LX...| Maruti|    Maruti Wagon R|    627|Maruti Wagon R LX...|            4312|             LXI CNG|New Delhi|/used-car-details...| ₹ 2.15 Lakh| 2,15,000|            0|  0|          0|     2|    Dealer|    1|  3398677|5bb9f635-15d6-46b...|3653699|BC0B9218118E314B4...|         0.0|                  {}|          Manual|      3398677|          4312|           215000|       1|View Seller Details|    {}|    1.0|                   0|     cls|  partner|          7|['Power Steering'...|['Power Steering'...|['Air Conditioner...|['Adjustable Head...|['Centeral Lockin...|          Silver|         K10B Engine|       998.0|58.16bhp@6200rpm|   77Nm@3500rpm|           3.0|                4.0|               DOHC|    69 x 72 mm|           No|           No| 3599mm| 1495mm| 1700mm|    2400mm|     1295mm|    1290mm|      960kg|      1350kg|             5 Speed|            FWD|             5.0|        Power|    4.6 metres| Ventilated Disc|           Drum| 137 kmph| 15.9 Seconds|      Tubeless Tyres|            5.0|  180-liters|          used|               0|Used Maruti Wagon...|                  0|         dealer|                 5.0|           manual|          2011|        used|    maruti wagon r|         344|  maruti|        2lakh-5lakh|            0|        delhi|         49|      cng|                  998.0|               manual|    67000|    Maruti Wagon R|             car|    maruti| 500cc-1000cc|          cng|  Hatchback|   3398677|    new delhi|used-car.detail|new delhi|       500cc-1000cc|Hatchback cars|        second|  26.6 kmpl|        0|      2011|maruti wagon r lx...|  2lakh-5lakh|dynRmktParamsReady|  offerdetail|      3398677|          4312|           215000|   maruti|maruti wagon r lx...|          Silver|                  998.0|    second|      2lakh-5lakh|   used cardetail v2|Used Car > Detail...|             used|   control|                   0|                0|               0|                       0|\n",
            "|      11|       pune city| 2018|Hatchback|Manual|CNG|  98,083|  0|https://images10....|[{'img': 'https:/...|      22|       0.0|Maruti Celerio VX...| Maruti|    Maruti Celerio|    588|Maruti Celerio VX...|            6056|VXI CNG Optional ...|     Pune|/used-car-details...| ₹ 4.25 Lakh| 4,25,000|            0|  0|          0|     2|    Dealer|   10|  3398666|b324264a-60ba-42c...|3653688|FD6E20E8E660421A0...|         0.0|{'title': 'EMI st...|          Manual|      3398666|          6056|           425000|       1|View Seller Details|    {}|    1.0|                   0|     cls|  partner|          7|['Power Steering'...|['Power Steering'...|['Air Conditioner...|['Adjustable Head...|['Anti Lock Braki...|    Silky silver|         K10B Engine|       998.0|58.33bhp@6000rpm|   78Nm@3500rpm|           3.0|                4.0|               DOHC|    73 X 82 mm|           No|           No| 3695mm| 1600mm| 1560mm|    2425mm|     1420mm|    1410mm|      925kg|      1350kg|             5 Speed|            FWD|             5.0|        Power|    4.7 metres| Ventilated Disc|           Drum| 150 Kmph|15.05 Seconds|    Tubeless, Radial|            5.0|  235-litres|          used|               0|Used Maruti Celer...|                  0|         dealer|                 5.0|           manual|          2018|        used|    maruti celerio|         323|  maruti|        2lakh-5lakh|            0|  maharashtra|        205|      cng|                  998.0|               manual|    98083|    Maruti Celerio|             car|    maruti| 500cc-1000cc|          cng|  Hatchback|   3398666|         pune|used-car.detail|     pune|       500cc-1000cc|Hatchback cars|         first| 31.79 kmpl|        0|      2018|maruti celerio vx...|  2lakh-5lakh|dynRmktParamsReady|  offerdetail|      3398666|          6056|           425000|   maruti|maruti celerio vx...|    Silky silver|                  998.0|     first|      2lakh-5lakh|   used cardetail v2|Used Car > Detail...|             used|   control|Intelligent-Gas P...|           11.0:1|               0|                       0|\n",
            "|      12|               0| 2019|Hatchback|Manual|CNG|  80,000|  0|https://stimg2.ca...|[{'img': 'https:/...|       6|       0.0|Maruti Celerio VX...| Maruti|    Maruti Celerio|    588|Maruti Celerio VX...|            6055|        VXI CNG BSIV|     Agra|/used-car-details...| ₹ 3.80 Lakh| 3,80,000|            0|  0|          0|     2|Individual|    7|  3398639|fa28f05d-ea6d-4d0...|3653659|B25BD98FF73EBCC7A...|         0.0|                  {}|          Manual|      3398639|          6055|           380000|       1|View Seller Details|    {}|    1.0|                   0|     cls|  partner|          7|['Power Steering'...|['Power Steering'...|['Air Conditioner...|['Adjustable Head...|['Anti Lock Braki...|           White|         K10B Engine|       998.0|58.33bhp@6000rpm|   78Nm@3500rpm|           3.0|                4.0|               DOHC|    73 X 82 mm|           No|           No| 3695mm| 1600mm| 1560mm|    2425mm|     1420mm|    1410mm|      920kg|      1350kg|             5 Speed|            FWD|             5.0|        Power|    4.7 metres| Ventilated Disc|           Drum| 150 Kmph|15.05 Seconds|    Tubeless, Radial|            5.0|  235-litres|          used|               0|Used Maruti Celer...|                  0|     individual|                 5.0|           manual|          2019|        used|    maruti celerio|         323|  maruti|        2lakh-5lakh|            0|uttar pradesh|        312|      cng|                  998.0|               manual|    80000|    Maruti Celerio|             car|    maruti| 500cc-1000cc|          cng|  Hatchback|   3398639|         agra|used-car.detail|     agra|       500cc-1000cc|Hatchback cars|         first| 31.79 kmpl|        0|      2019|maruti celerio vx...|  2lakh-5lakh|dynRmktParamsReady|  offerdetail|      3398639|          6055|           380000|   maruti|maruti celerio vx...|           White|                  998.0|     first|      2lakh-5lakh|   used cardetail v2|Used Car > Detail...|             used|   control|Intelligent-Gas P...|           11.0:1|               0|                       0|\n",
            "|      13|     bandra west| 2017|      MUV|Manual|CNG|  39,000|  0|https://images10....|[{'img': 'https:/...|      14|       0.0|Maruti Ertiga VXI...| Maruti|     Maruti Ertiga|    592|Maruti Ertiga VXI...|            4041|             VXI CNG|   Mumbai|/used-car-details...| ₹ 7.95 Lakh| 7,95,000|            0|  0|          0|     2|    Dealer|    6|  3398641|5423e926-5d82-4ff...|3653664|A604CE09C894DA803...|         0.0|{'title': 'EMI st...|          Manual|      3398641|          4041|           795000|       1|View Seller Details|    {}|    1.0|                   0|     cls|  partner|          7|['Power Steering'...|['Power Steering'...|['Air Conditioner...|['Adjustable Head...|['Anti Lock Braki...|          Silver|  K14B Petrol Engine|      1373.0|80.46bhp@6000rpm|  112Nm@4000rpm|           4.0|                4.0|               DOHC|    73 X 82 mm|           No|           No| 4296mm| 1695mm| 1685mm|    2740mm|     1480mm|    1490mm|     1255kg|           0|             5 Speed|            FWD|             7.0|        Power|    5.2 metres| Ventilated Disc|           Drum| 164 Kmph|   13 Seconds|     Tubeless,Radial|            5.0|  135-liters|          used|               0|Used Maruti Ertig...|                  0|         dealer|                 7.0|           manual|          2017|        used|     maruti ertiga|         327|  maruti|        5lakh-8lakh|            0|  maharashtra|        201|      cng|                 1373.0|               manual|    39000|     Maruti Ertiga|             car|    maruti|1000cc-2000cc|          cng|        MUV|   3398641|       mumbai|used-car.detail|   mumbai|      1000cc-2000cc|      MUV cars|         first|  17.5 kmpl|        0|      2017|maruti ertiga vxi...|  5lakh-8lakh|dynRmktParamsReady|  offerdetail|      3398641|          4041|           795000|   maruti|maruti ertiga vxi...|          Silver|                 1373.0|     first|      5lakh-8lakh|   used cardetail v2|Used Car > Detail...|             used|   control|                MPFI|           11.0:1|               0|                       0|\n",
            "|      14|       pune city| 2014|Hatchback|Manual|CNG|  34,889|  0|https://images10....|[{'img': 'https:/...|      26|       0.0|Maruti Wagon R LX...| Maruti|    Maruti Wagon R|    627|Maruti Wagon R LX...|            4312|             LXI CNG|     Pune|/used-car-details...| ₹ 3.50 Lakh| 3,50,000|            0|  0|          0|     2|    Dealer|    7|  3398551|ad459b4e-5e3d-4ea...|3653574|368B0F97DC374789F...|         0.0|{'title': 'EMI st...|          Manual|      3398551|          4312|           350000|       1|View Seller Details|    {}|    1.0|                   0|     cls|  partner|          7|['Power Steering'...|['Power Steering'...|['Air Conditioner...|['Adjustable Head...|['Centeral Lockin...|Bakers Chocolate|         K10B Engine|       998.0|58.16bhp@6200rpm|   77Nm@3500rpm|           3.0|                4.0|               DOHC|    69 x 72 mm|           No|           No| 3599mm| 1495mm| 1700mm|    2400mm|     1295mm|    1290mm|      960kg|      1350kg|             5 Speed|            FWD|             5.0|        Power|    4.6 metres| Ventilated Disc|           Drum| 137 kmph| 15.9 Seconds|      Tubeless Tyres|            5.0|  180-liters|          used|               0|Used Maruti Wagon...|                  0|         dealer|                 5.0|           manual|          2014|        used|    maruti wagon r|         344|  maruti|        2lakh-5lakh|            0|  maharashtra|        205|      cng|                  998.0|               manual|    34889|    Maruti Wagon R|             car|    maruti| 500cc-1000cc|          cng|  Hatchback|   3398551|         pune|used-car.detail|     pune|       500cc-1000cc|Hatchback cars|         first|  26.6 kmpl|        0|      2014|maruti wagon r lx...|  2lakh-5lakh|dynRmktParamsReady|  offerdetail|      3398551|          4312|           350000|   maruti|maruti wagon r lx...|Bakers Chocolate|                  998.0|     first|      2lakh-5lakh|   used cardetail v2|Used Car > Detail...|             used|   control|                   0|                0|               0|                       0|\n",
            "|      15|new delhi g.p.o.| 2022|Hatchback|Manual|CNG|  31,758|  0|https://images10....|[{'img': 'https:/...|      21|       0.0|Maruti Wagon R CN...| Maruti|    Maruti Wagon R|    627|Maruti Wagon R CN...|            7670|         CNG LXI Opt|New Delhi|/used-car-details...| ₹ 6.50 Lakh| 6,50,000|            0|  0|          0|     2|    Dealer|    2|  3398542|27f1507d-5edc-4a4...|3653564|12AF52939A2DABEE9...|         0.0|{'title': 'EMI st...|          Manual|      3398542|          7670|           650000|       1|View Seller Details|    {}|    1.0|                   0|     cls|  partner|          7|['Power Steering'...|['Power Steering'...|['Air Conditioner...|['Adjustable Head...|['Anti Lock Braki...|    Silky silver|  K10B Petrol Engine|       998.0|58.33bhp@5500rpm|   78Nm@3500rpm|           3.0|                4.0|               DOHC|  73 x 79.5 mm|           No|           No|3655 mm|1620 mm|1675 mm|   2435 mm|          0|         0|    905-910|      1340kg|             5 Speed|            FWD|             5.0|        Power|    4.7 metres|            Disc|           Drum|        0| 18.6 Seconds|      Tubeless Tyres|            5.0|  341 Litres|          used|               0|Used Maruti Wagon...|                  0|         dealer|                 5.0|           manual|          2022|        used|    maruti wagon r|         344|  maruti|        5lakh-8lakh|            0|        delhi|         49|      cng|                  998.0|               manual|    31758|    Maruti Wagon R|             car|    maruti| 500cc-1000cc|          cng|  Hatchback|   3398542|    new delhi|used-car.detail|new delhi|       500cc-1000cc|Hatchback cars|         first| 32.52 kmpl|        0|      2022|maruti wagon r cn...|  5lakh-8lakh|dynRmktParamsReady|  offerdetail|      3398542|          7670|           650000|   maruti|maruti wagon r cn...|    Silky silver|                  998.0|     first|      5lakh-8lakh|   used cardetail v2|Used Car > Detail...|             used|   control|                MPFI|                0|               0|                       0|\n",
            "|      16|     mohan nagar| 2021|Hatchback|Manual|CNG|  23,000|  0|https://images10....|[{'img': 'https:/...|      17|       0.0|Maruti Wagon R LX...| Maruti|    Maruti Wagon R|    627|Maruti Wagon R LX...|            4312|             LXI CNG|Ghaziabad|/used-car-details...| ₹ 5.99 Lakh| 5,99,000|            0|  0|          0|     2|    Dealer|   12|  3398468|39b598ca-7b0b-41e...|3653486|994421B0AB5477636...|         0.0|{'title': 'EMI st...|          Manual|      3398468|          4312|           599000|       1|View Seller Details|    {}|    1.0|                   0|     cls|  partner|          7|['Power Steering'...|['Power Steering'...|['Air Conditioner...|['Adjustable Head...|['Centeral Lockin...|           White|         K10B Engine|       998.0|58.16bhp@6200rpm|   77Nm@3500rpm|           3.0|                4.0|               DOHC|    69 x 72 mm|           No|           No| 3599mm| 1495mm| 1700mm|    2400mm|     1295mm|    1290mm|      960kg|      1350kg|             5 Speed|            FWD|             5.0|        Power|    4.6 metres| Ventilated Disc|           Drum| 137 kmph| 15.9 Seconds|      Tubeless Tyres|            5.0|  180-liters|          used|               0|Used Maruti Wagon...|                  0|         dealer|                 5.0|           manual|          2021|        used|    maruti wagon r|         344|  maruti|        5lakh-8lakh|            0|uttar pradesh|        349|      cng|                  998.0|               manual|    23000|    Maruti Wagon R|             car|    maruti| 500cc-1000cc|          cng|  Hatchback|   3398468|    ghaziabad|used-car.detail|ghaziabad|       500cc-1000cc|Hatchback cars|         first|  26.6 kmpl|        0|      2021|maruti wagon r lx...|  5lakh-8lakh|dynRmktParamsReady|  offerdetail|      3398468|          4312|           599000|   maruti|maruti wagon r lx...|           White|                  998.0|     first|      5lakh-8lakh|   used cardetail v2|Used Car > Detail...|             used|   control|                   0|                0|               0|                       0|\n",
            "|      17|  bengali market| 2014|Hatchback|Manual|CNG|  60,000|  0|https://images10....|[{'img': 'https:/...|       9|       0.0|Hyundai Grand i10...|Hyundai| Hyundai Grand i10|    255|Hyundai Grand i10...|            1548|            Asta CNG|New Delhi|/used-car-details...| ₹ 4.25 Lakh| 4,25,000|            0|  0|          0|     2|    Dealer|    6|  3398456|0dcbf585-0ad0-480...|3653477|9BFC8A9CBAF54F241...|         0.0|{'title': 'EMI st...|          Manual|      3398456|          1548|           425000|       1|View Seller Details|    {}|    1.0|                   0|     cls|  partner|          7|['Power Steering'...|['Power Steering'...|['Air Conditioner...|['Adjustable Head...|['Centeral Lockin...|           White|Kappa VTVT Petrol...|      1197.0|   82bhp@6000rpm|  114Nm@4000rpm|           4.0|                4.0|               DOHC|             0|           No|           No| 3765mm| 1660mm| 1520mm|    2425mm|     1479mm|    1493mm|      935kg|           0|             5 Speed|            FWD|             5.0|        Power|    4.8 metres|            Disc|           Drum| 165 Kmph| 12.9 Seconds|            Tubeless|            5.0|  256-liters|          used|               0|Used Hyundai Gran...|                  0|         dealer|                 5.0|           manual|          2014|        used| hyundai grand i10|         143| hyundai|        2lakh-5lakh|            0|        delhi|         49|      cng|                 1197.0|               manual|    60000| Hyundai Grand i10|             car|   hyundai|1000cc-2000cc|          cng|  Hatchback|   3398456|    new delhi|used-car.detail|new delhi|      1000cc-2000cc|Hatchback cars|        second|    25 kmpl|        0|      2014|hyundai grand i10...|  2lakh-5lakh|dynRmktParamsReady|  offerdetail|      3398456|          1548|           425000|  hyundai|hyundai grand i10...|           White|                 1197.0|    second|      2lakh-5lakh|   used cardetail v2|Used Car > Detail...|             used|   control|               DEDST|                0|              14|                       0|\n",
            "|      18|new delhi g.p.o.| 2016|Hatchback|Manual|CNG|  43,413|  0|https://images10....|[{'img': 'https:/...|      22|       0.0|Maruti Wagon R LX...| Maruti|    Maruti Wagon R|    627|Maruti Wagon R LX...|            4312|             LXI CNG|New Delhi|/used-car-details...| ₹ 3.18 Lakh| 3,17,736|            0|  0|          0|     2|    Dealer|   20|  3398353|39cd661b-d9a0-4d4...|3653360|342047AB4282B2985...|         0.0|{'title': 'EMI st...|          Manual|      3398353|          4312|           317736|       1|View Seller Details|    {}|    1.0|                   0|     cls|  partner|          7|['Power Steering'...|['Power Steering'...|['Air Conditioner...|['Adjustable Head...|['Centeral Lockin...|           White|         K10B Engine|       998.0|58.16bhp@6200rpm|   77Nm@3500rpm|           3.0|                4.0|               DOHC|    69 x 72 mm|           No|           No| 3599mm| 1495mm| 1700mm|    2400mm|     1295mm|    1290mm|      960kg|      1350kg|             5 Speed|            FWD|             5.0|        Power|    4.6 metres| Ventilated Disc|           Drum| 137 kmph| 15.9 Seconds|      Tubeless Tyres|            5.0|  180-liters|          used|               0|Used Maruti Wagon...|                  0|         dealer|                 5.0|           manual|          2016|        used|    maruti wagon r|         344|  maruti|        2lakh-5lakh|            0|        delhi|         49|      cng|                  998.0|               manual|    43413|    Maruti Wagon R|             car|    maruti| 500cc-1000cc|          cng|  Hatchback|   3398353|    new delhi|used-car.detail|new delhi|       500cc-1000cc|Hatchback cars|        second|  26.6 kmpl|        0|      2016|maruti wagon r lx...|  2lakh-5lakh|dynRmktParamsReady|  offerdetail|      3398353|          4312|           317736|   maruti|maruti wagon r lx...|           White|                  998.0|    second|      2lakh-5lakh|   used cardetail v2|Used Car > Detail...|             used|   control|                   0|                0|               0|                       0|\n",
            "|      19|               0| 2020|      MUV|Manual|CNG|  60,000|  0|https://stimg2.ca...|[{'img': 'https:/...|       3|       0.0|Maruti Ertiga Tou...| Maruti|Maruti Ertiga Tour|   3315|Maruti Ertiga Tou...|            8869|   STD CNG 2019-2022|Bangalore|/used-car-details...|   ₹ 10 Lakh|10,00,000|            0|  0|          0|     2|Individual|    6|  3398294|8186c303-66cf-49a...|3653282|6D91CA0396E9B67B5...|         0.0|{'title': 'EMI st...|          Manual|      3398294|          8869|          1000000|       1|View Seller Details|    {}|    1.0|                   0|     cls|  partner|          7|['Power Steering'...|['Power Steering'...|['Air Conditioner...|['Adjustable Head...|['Anti Lock Braki...|           White|                K15B|      1462.0|91.18bhp@6000rpm|  122nm@4400rpm|           4.0|                4.0|                  0|     74.0x85.0|            0|            0|   4395|   1735|   1690|      2740|          0|         0|       1235|        1795|             5-Speed|            FWD|             7.0|            0|           5.2| Ventilated Disc|           Drum|        0|            0|    Tubeless, Radial|            5.0|           0|          used|               0|Used Maruti Ertig...|                  0|     individual|                 7.0|           manual|          2020|        used|maruti ertiga tour|         889|  maruti|            10+lakh|            0|    karnataka|        105|      cng|                 1462.0|               manual|    60000|Maruti Ertiga Tour|             car|    maruti|1000cc-2000cc|          cng|        MUV|   3398294|    bangalore|used-car.detail|bangalore|      1000cc-2000cc|      MUV cars|         first|          0|        0|      2020|maruti ertiga tou...|      10+lakh|dynRmktParamsReady|  offerdetail|      3398294|          8869|          1000000|   maruti|maruti ertiga tou...|           White|                 1462.0|     first|          10+lakh|   used cardetail v2|Used Car > Detail...|             used|   control|                   0|                0|               0|                       0|\n",
            "|      20|       pune city| 2014|Hatchback|Manual|CNG|  67,720|  0|https://images10....|[{'img': 'https:/...|      20|       0.0|Maruti Celerio Gr...| Maruti|    Maruti Celerio|    955|Maruti Celerio Gr...|            3984|           Green VXI|     Pune|/used-car-details...| ₹ 3.17 Lakh| 3,17,400|            0|  0|          0|     2|    Dealer|   57|  3398295|4660538e-39df-416...|3653286|5447F527FA50251B5...|         0.0|{'title': 'EMI st...|          Manual|      3398295|          3984|           317400|       1|View Seller Details|    {}|    1.0|                   0|     cls|  partner|          7|['Power Steering'...|['Power Steering'...|['Air Conditioner...|['Adjustable Head...|['Centeral Lockin...|   Cerulean Blue|        K10B Engine |       998.0| 58.2bhp@6000rpm|   78Nm@3500rpm|           3.0|                4.0|               DOHC|    73 X 82 mm|           No|           No| 3600mm| 1600mm| 1560mm|    2425mm|     1420mm|    1410mm|      915kg|      1350kg|            5 Speed |            FWD|             5.0|        Power|    4.7 metres| Ventilated Disc|           Drum| 150 Kmph|15.05 Seconds|    Tubeless, Radial|            5.0|  235-litres|          used|               0|Used Maruti Celer...|                  0|         dealer|                 5.0|           manual|          2014|        used|    maruti celerio|         323|  maruti|        2lakh-5lakh|            0|  maharashtra|        205|      cng|                  998.0|               manual|    67720|    Maruti Celerio|             car|    maruti| 500cc-1000cc|          cng|  Hatchback|   3398295|         pune|used-car.detail|     pune|       500cc-1000cc|Hatchback cars|         third| 31.79 kmpl|        0|      2014|maruti celerio gr...|  2lakh-5lakh|dynRmktParamsReady|  offerdetail|      3398295|          3984|           317400|   maruti|maruti celerio gr...|   Cerulean Blue|                  998.0|     third|      2lakh-5lakh|   used cardetail v2|Used Car > Detail...|             used|   control|Intelligent-Gas P...|           11.0:1|               0|                       0|\n",
            "+--------+----------------+-----+---------+------+---+--------+---+--------------------+--------------------+--------+----------+--------------------+-------+------------------+-------+--------------------+----------------+--------------------+---------+--------------------+------------+---------+-------------+---+-----------+------+----------+-----+---------+--------------------+-------+--------------------+------------+--------------------+----------------+-------------+--------------+-----------------+--------+-------------------+------+-------+--------------------+--------+---------+-----------+--------------------+--------------------+--------------------+--------------------+--------------------+----------------+--------------------+------------+----------------+---------------+--------------+-------------------+-------------------+--------------+-------------+-------------+-------+-------+-------+----------+-----------+----------+-----------+------------+--------------------+---------------+----------------+-------------+--------------+----------------+---------------+---------+-------------+--------------------+---------------+------------+--------------+----------------+--------------------+-------------------+---------------+--------------------+-----------------+--------------+------------+------------------+------------+--------+-------------------+-------------+-------------+-----------+---------+-----------------------+---------------------+---------+------------------+----------------+----------+-------------+-------------+-----------+----------+-------------+---------------+---------+-------------------+--------------+--------------+-----------+---------+----------+--------------------+-------------+------------------+-------------+-------------+--------------+-----------------+---------+--------------------+----------------+-----------------------+----------+-----------------+--------------------+--------------------+-----------------+----------+--------------------+-----------------+----------------+------------------------+\n",
            "only showing top 20 rows\n",
            "\n"
          ]
        }
      ]
    },
    {
      "cell_type": "code",
      "source": [
        "new_count=car.count()\n",
        "new_count"
      ],
      "metadata": {
        "colab": {
          "base_uri": "https://localhost:8080/"
        },
        "id": "Do6T3VsJBUcC",
        "outputId": "d1e710fe-b2c7-4c0d-ec50-0930f0eb8428"
      },
      "execution_count": null,
      "outputs": [
        {
          "output_type": "execute_result",
          "data": {
            "text/plain": [
              "37814"
            ]
          },
          "metadata": {},
          "execution_count": 20
        }
      ]
    },
    {
      "cell_type": "code",
      "source": [
        "# Assume df is the PySpark DataFrame\n",
        "string_cols = []\n",
        "\n",
        "# Loop through each column and check if its data type is string\n",
        "for col_name, col_type in car.dtypes:\n",
        "    if col_type == 'string':\n",
        "        string_cols.append(col_name)\n",
        "\n",
        "# Print the list of column names that are of string data type\n",
        "print(\"Columns with string data type:\", string_cols)\n",
        "\n",
        "#from pyspark.sql.functions import col\n",
        "\n",
        "# Loop through each string column and cast it to integer data type\n",
        "#for col_name in string_cols:\n",
        " #   car = car.withColumn(col_name, col(col_name).cast('double'))\n",
        "\n"
      ],
      "metadata": {
        "colab": {
          "base_uri": "https://localhost:8080/"
        },
        "id": "RnuijVNB8NOV",
        "outputId": "0957b138-ac63-4606-ffe6-d5cff431c403"
      },
      "execution_count": null,
      "outputs": [
        {
          "output_type": "stream",
          "name": "stdout",
          "text": [
            "Columns with string data type: ['loc', 'bt', 'tt', 'ft', 'km', 'pi', 'images', 'dvn', 'oem', 'model', 'vid', 'variantName', 'city_x', 'vlink', 'price', 'pu', 'priceSaving', 'utype', 'usedCarSkuId', 'sid', 'emiwidget', 'transmissionType', 'leadFormCta', 'offers', 'brandingIcon', 'pageType', 'carType', 'top_features', 'comfort_features', 'interior_features', 'exterior_features', 'safety_features', 'Color', 'Engine Type', 'Max Power', 'Max Torque', 'Value Configuration', 'BoreX Stroke', 'Turbo Charger', 'Super Charger', 'Length', 'Width', 'Height', 'Wheel Base', 'Front Tread', 'Rear Tread', 'Kerb Weight', 'Gross Weight', 'Gear Box', 'Drive Type', 'Steering Type', 'Turning Radius', 'Front Brake Type', 'Rear Brake Type', 'Top Speed', 'Acceleration', 'Tyre Type', 'Cargo Volumn', 'model_type_new', 'originalLocation', 'page_title', 'compare_car_details', 'seller_type_new', 'transmission_type', 'car_type_new', 'model_name', 'oem_name', 'price_range_segment', 'state', 'fuel_type', 'transmission_type_new', 'model_new', 'vehicle_type_new', 'brand_name', 'engine_cc', 'fuel_type_new', 'car_segment', 'city_name_new', 'page_type', 'city_y', 'engine_capacity_new', 'body_type_new', 'owner_type_new', 'mileage_new', 'variant_name', 'price_segment', 'dynx_event', 'dynx_pagetype', 'brand_new', 'variant_new', 'exterior_color', 'owner_type', 'price_segment_new', 'template_name_new', 'page_template', 'template_Type_new', 'experiment', 'Fuel Suppy System', 'Compression Ratio', 'Alloy Wheel Size', 'Ground Clearance Unladen']\n"
          ]
        }
      ]
    },
    {
      "cell_type": "code",
      "source": [
        "len(string_cols)"
      ],
      "metadata": {
        "colab": {
          "base_uri": "https://localhost:8080/"
        },
        "id": "vVLqg-lFPGYY",
        "outputId": "ba6ae28f-4c47-498c-9d71-64f6722bfb7a"
      },
      "execution_count": null,
      "outputs": [
        {
          "output_type": "execute_result",
          "data": {
            "text/plain": [
              "101"
            ]
          },
          "metadata": {},
          "execution_count": 22
        }
      ]
    },
    {
      "cell_type": "code",
      "source": [
        "from pyspark.sql.functions import col\n",
        "\n",
        "columns = ['loc', 'bt', 'tt', 'ft', 'km', 'pi', 'images', 'dvn', 'oem', 'model', 'vid', 'variantName', 'city_x', 'vlink', 'price', 'pu', 'priceSaving', 'utype', 'usedCarSkuId', 'sid', 'emiwidget', 'transmissionType', 'leadFormCta', 'offers', 'brandingIcon', 'pageType', 'carType', 'top_features', 'comfort_features', 'interior_features', 'exterior_features', 'safety_features', 'Color', 'Engine Type', 'Max Power', 'Max Torque', 'Value Configuration', 'BoreX Stroke', 'Turbo Charger', 'Super Charger', 'Length', 'Width', 'Height', 'Wheel Base', 'Front Tread', 'Rear Tread', 'Kerb Weight', 'Gross Weight', 'Gear Box', 'Drive Type', 'Steering Type', 'Turning Radius', 'Front Brake Type', 'Rear Brake Type', 'Top Speed', 'Acceleration', 'Tyre Type', 'Cargo Volumn', 'model_type_new', 'originalLocation', 'page_title', 'compare_car_details', 'seller_type_new', 'transmission_type', 'car_type_new', 'model_name', 'oem_name', 'price_range_segment', 'state', 'fuel_type', 'transmission_type_new', 'model_new', 'vehicle_type_new', 'brand_name', 'engine_cc', 'fuel_type_new', 'car_segment', 'city_name_new', 'page_type', 'city_y', 'engine_capacity_new', 'body_type_new', 'owner_type_new', 'mileage_new', 'variant_name', 'price_segment', 'dynx_event', 'dynx_pagetype', 'brand_new', 'variant_new', 'exterior_color', 'owner_type', 'price_segment_new', 'template_name_new', 'page_template', 'template_Type_new', 'experiment', 'Fuel Suppy System', 'Compression Ratio', 'Alloy Wheel Size', 'Ground Clearance Unladen']\n",
        "car.drop(*[col(c) for c in columns])\n",
        "\n"
      ],
      "metadata": {
        "colab": {
          "base_uri": "https://localhost:8080/"
        },
        "id": "6uDVIDwKXZiB",
        "outputId": "faf91715-47c2-4c77-eea2-da77b05268af"
      },
      "execution_count": null,
      "outputs": [
        {
          "output_type": "execute_result",
          "data": {
            "text/plain": [
              "DataFrame[position: int, myear: int, ip: int, imgCount: int, threesixty: double, modelId: int, centralVariantId: int, discountValue: int, msp: int, pageNo: int, views: int, usedCarId: int, ucid: int, tmGaadiStore: double, dynx_itemid_x: int, dynx_itemid2_x: int, dynx_totalvalue_x: int, leadForm: int, compare: double, corporateId: int, Displacement: double, No of Cylinder: double, Values per Cylinder: double, Seating Capacity: double, No Door Numbers: double, seating_capacity_new: double, model_year_new: int, model_id_new: int, dealer_id_new: int, city_id_new: int, max_engine_capacity_new: double, km_driven: int, used_carid: int, dealer_id: int, model_year: int, dynx_itemid_y: int, dynx_itemid2_y: int, dynx_totalvalue_y: int, min_engine_capacity_new: double]"
            ]
          },
          "metadata": {},
          "execution_count": 23
        }
      ]
    },
    {
      "cell_type": "code",
      "source": [
        "final_cols=['position', 'myear', 'ip', 'imgCount', 'threesixty', 'modelId', 'centralVariantId', 'discountValue', 'msp', 'pageNo', 'views', 'usedCarId', 'ucid', 'tmGaadiStore', 'dynx_itemid_x', 'dynx_itemid2_x', 'dynx_totalvalue_x', 'leadForm', 'compare', 'corporateId', 'Displacement', 'No of Cylinder', 'Values per Cylinder', 'Seating Capacity', 'No Door Numbers', 'seating_capacity_new', 'model_year_new', 'model_id_new', 'dealer_id_new', 'city_id_new', 'max_engine_capacity_new', 'km_driven', 'used_carid', 'dealer_id', 'model_year', 'dynx_itemid_y', 'dynx_itemid2_y','dynx_totalvalue_y', 'min_engine_capacity_new']"
      ],
      "metadata": {
        "id": "XJWueQeGpNJ0"
      },
      "execution_count": null,
      "outputs": []
    },
    {
      "cell_type": "code",
      "source": [
        "from pyspark.ml.feature import QuantileDiscretizer, VectorAssembler\n",
        "\n",
        "# create a vector assembler to combine all relevant columns into a single feature vector\n",
        "assembler = VectorAssembler(inputCols=['position', 'myear', 'ip', 'imgCount', 'modelId', 'centralVariantId', 'discountValue', 'msp', 'pageNo', 'views', 'usedCarId', 'ucid',  'dynx_itemid_x', 'dynx_itemid2_x', 'dynx_totalvalue_x', 'leadForm', 'corporateId', 'Displacement', 'No of Cylinder', 'Values per Cylinder', 'Seating Capacity', 'No Door Numbers', 'seating_capacity_new', 'model_year_new', 'model_id_new', 'dealer_id_new', 'city_id_new', 'max_engine_capacity_new', 'km_driven', 'used_carid', 'dealer_id', 'model_year', 'dynx_itemid_y', 'dynx_itemid2_y','dynx_totalvalue_y', 'min_engine_capacity_new'], outputCol='features')\n",
        "\n",
        "# apply the vector assembler to the DataFrame\n",
        "car_assembled = assembler.transform(car)\n",
        "\n",
        "# create a quantile discretizer to transform the feature vector into categorical variables\n",
        "discretizer = QuantileDiscretizer(numBuckets=5, inputCol='features', outputCol='buckets')\n",
        "\n",
        "# apply the quantile discretizer to the assembled DataFrame\n",
        "car_discretized = discretizer.fit(car_assembled).transform(car_assembled)\n",
        "\n",
        "# find the outliers by selecting the data points in the lowest and highest buckets\n",
        "outliers = car_discretized.filter((car_discretized['buckets'] == 0) | (car_discretized['buckets'] == 4))\n"
      ],
      "metadata": {
        "id": "d8WJA4OyEvFf",
        "colab": {
          "base_uri": "https://localhost:8080/",
          "height": 380
        },
        "outputId": "b11aba28-b945-4372-c5d1-3a7d5a5dea69"
      },
      "execution_count": null,
      "outputs": [
        {
          "output_type": "error",
          "ename": "IllegalArgumentException",
          "evalue": "ignored",
          "traceback": [
            "\u001b[0;31m---------------------------------------------------------------------------\u001b[0m",
            "\u001b[0;31mIllegalArgumentException\u001b[0m                  Traceback (most recent call last)",
            "\u001b[0;32m<ipython-input-25-3e53f6a8bc3e>\u001b[0m in \u001b[0;36m<cell line: 13>\u001b[0;34m()\u001b[0m\n\u001b[1;32m     11\u001b[0m \u001b[0;34m\u001b[0m\u001b[0m\n\u001b[1;32m     12\u001b[0m \u001b[0;31m# apply the quantile discretizer to the assembled DataFrame\u001b[0m\u001b[0;34m\u001b[0m\u001b[0;34m\u001b[0m\u001b[0m\n\u001b[0;32m---> 13\u001b[0;31m \u001b[0mcar_discretized\u001b[0m \u001b[0;34m=\u001b[0m \u001b[0mdiscretizer\u001b[0m\u001b[0;34m.\u001b[0m\u001b[0mfit\u001b[0m\u001b[0;34m(\u001b[0m\u001b[0mcar_assembled\u001b[0m\u001b[0;34m)\u001b[0m\u001b[0;34m.\u001b[0m\u001b[0mtransform\u001b[0m\u001b[0;34m(\u001b[0m\u001b[0mcar_assembled\u001b[0m\u001b[0;34m)\u001b[0m\u001b[0;34m\u001b[0m\u001b[0;34m\u001b[0m\u001b[0m\n\u001b[0m\u001b[1;32m     14\u001b[0m \u001b[0;34m\u001b[0m\u001b[0m\n\u001b[1;32m     15\u001b[0m \u001b[0;31m# find the outliers by selecting the data points in the lowest and highest buckets\u001b[0m\u001b[0;34m\u001b[0m\u001b[0;34m\u001b[0m\u001b[0m\n",
            "\u001b[0;32m/usr/local/lib/python3.9/dist-packages/pyspark/ml/base.py\u001b[0m in \u001b[0;36mfit\u001b[0;34m(self, dataset, params)\u001b[0m\n\u001b[1;32m    203\u001b[0m                 \u001b[0;32mreturn\u001b[0m \u001b[0mself\u001b[0m\u001b[0;34m.\u001b[0m\u001b[0mcopy\u001b[0m\u001b[0;34m(\u001b[0m\u001b[0mparams\u001b[0m\u001b[0;34m)\u001b[0m\u001b[0;34m.\u001b[0m\u001b[0m_fit\u001b[0m\u001b[0;34m(\u001b[0m\u001b[0mdataset\u001b[0m\u001b[0;34m)\u001b[0m\u001b[0;34m\u001b[0m\u001b[0;34m\u001b[0m\u001b[0m\n\u001b[1;32m    204\u001b[0m             \u001b[0;32melse\u001b[0m\u001b[0;34m:\u001b[0m\u001b[0;34m\u001b[0m\u001b[0;34m\u001b[0m\u001b[0m\n\u001b[0;32m--> 205\u001b[0;31m                 \u001b[0;32mreturn\u001b[0m \u001b[0mself\u001b[0m\u001b[0;34m.\u001b[0m\u001b[0m_fit\u001b[0m\u001b[0;34m(\u001b[0m\u001b[0mdataset\u001b[0m\u001b[0;34m)\u001b[0m\u001b[0;34m\u001b[0m\u001b[0;34m\u001b[0m\u001b[0m\n\u001b[0m\u001b[1;32m    206\u001b[0m         \u001b[0;32melse\u001b[0m\u001b[0;34m:\u001b[0m\u001b[0;34m\u001b[0m\u001b[0;34m\u001b[0m\u001b[0m\n\u001b[1;32m    207\u001b[0m             raise TypeError(\n",
            "\u001b[0;32m/usr/local/lib/python3.9/dist-packages/pyspark/ml/wrapper.py\u001b[0m in \u001b[0;36m_fit\u001b[0;34m(self, dataset)\u001b[0m\n\u001b[1;32m    379\u001b[0m \u001b[0;34m\u001b[0m\u001b[0m\n\u001b[1;32m    380\u001b[0m     \u001b[0;32mdef\u001b[0m \u001b[0m_fit\u001b[0m\u001b[0;34m(\u001b[0m\u001b[0mself\u001b[0m\u001b[0;34m,\u001b[0m \u001b[0mdataset\u001b[0m\u001b[0;34m:\u001b[0m \u001b[0mDataFrame\u001b[0m\u001b[0;34m)\u001b[0m \u001b[0;34m->\u001b[0m \u001b[0mJM\u001b[0m\u001b[0;34m:\u001b[0m\u001b[0;34m\u001b[0m\u001b[0;34m\u001b[0m\u001b[0m\n\u001b[0;32m--> 381\u001b[0;31m         \u001b[0mjava_model\u001b[0m \u001b[0;34m=\u001b[0m \u001b[0mself\u001b[0m\u001b[0;34m.\u001b[0m\u001b[0m_fit_java\u001b[0m\u001b[0;34m(\u001b[0m\u001b[0mdataset\u001b[0m\u001b[0;34m)\u001b[0m\u001b[0;34m\u001b[0m\u001b[0;34m\u001b[0m\u001b[0m\n\u001b[0m\u001b[1;32m    382\u001b[0m         \u001b[0mmodel\u001b[0m \u001b[0;34m=\u001b[0m \u001b[0mself\u001b[0m\u001b[0;34m.\u001b[0m\u001b[0m_create_model\u001b[0m\u001b[0;34m(\u001b[0m\u001b[0mjava_model\u001b[0m\u001b[0;34m)\u001b[0m\u001b[0;34m\u001b[0m\u001b[0;34m\u001b[0m\u001b[0m\n\u001b[1;32m    383\u001b[0m         \u001b[0;32mreturn\u001b[0m \u001b[0mself\u001b[0m\u001b[0;34m.\u001b[0m\u001b[0m_copyValues\u001b[0m\u001b[0;34m(\u001b[0m\u001b[0mmodel\u001b[0m\u001b[0;34m)\u001b[0m\u001b[0;34m\u001b[0m\u001b[0;34m\u001b[0m\u001b[0m\n",
            "\u001b[0;32m/usr/local/lib/python3.9/dist-packages/pyspark/ml/wrapper.py\u001b[0m in \u001b[0;36m_fit_java\u001b[0;34m(self, dataset)\u001b[0m\n\u001b[1;32m    376\u001b[0m \u001b[0;34m\u001b[0m\u001b[0m\n\u001b[1;32m    377\u001b[0m         \u001b[0mself\u001b[0m\u001b[0;34m.\u001b[0m\u001b[0m_transfer_params_to_java\u001b[0m\u001b[0;34m(\u001b[0m\u001b[0;34m)\u001b[0m\u001b[0;34m\u001b[0m\u001b[0;34m\u001b[0m\u001b[0m\n\u001b[0;32m--> 378\u001b[0;31m         \u001b[0;32mreturn\u001b[0m \u001b[0mself\u001b[0m\u001b[0;34m.\u001b[0m\u001b[0m_java_obj\u001b[0m\u001b[0;34m.\u001b[0m\u001b[0mfit\u001b[0m\u001b[0;34m(\u001b[0m\u001b[0mdataset\u001b[0m\u001b[0;34m.\u001b[0m\u001b[0m_jdf\u001b[0m\u001b[0;34m)\u001b[0m\u001b[0;34m\u001b[0m\u001b[0;34m\u001b[0m\u001b[0m\n\u001b[0m\u001b[1;32m    379\u001b[0m \u001b[0;34m\u001b[0m\u001b[0m\n\u001b[1;32m    380\u001b[0m     \u001b[0;32mdef\u001b[0m \u001b[0m_fit\u001b[0m\u001b[0;34m(\u001b[0m\u001b[0mself\u001b[0m\u001b[0;34m,\u001b[0m \u001b[0mdataset\u001b[0m\u001b[0;34m:\u001b[0m \u001b[0mDataFrame\u001b[0m\u001b[0;34m)\u001b[0m \u001b[0;34m->\u001b[0m \u001b[0mJM\u001b[0m\u001b[0;34m:\u001b[0m\u001b[0;34m\u001b[0m\u001b[0;34m\u001b[0m\u001b[0m\n",
            "\u001b[0;32m/usr/local/lib/python3.9/dist-packages/py4j/java_gateway.py\u001b[0m in \u001b[0;36m__call__\u001b[0;34m(self, *args)\u001b[0m\n\u001b[1;32m   1320\u001b[0m \u001b[0;34m\u001b[0m\u001b[0m\n\u001b[1;32m   1321\u001b[0m         \u001b[0manswer\u001b[0m \u001b[0;34m=\u001b[0m \u001b[0mself\u001b[0m\u001b[0;34m.\u001b[0m\u001b[0mgateway_client\u001b[0m\u001b[0;34m.\u001b[0m\u001b[0msend_command\u001b[0m\u001b[0;34m(\u001b[0m\u001b[0mcommand\u001b[0m\u001b[0;34m)\u001b[0m\u001b[0;34m\u001b[0m\u001b[0;34m\u001b[0m\u001b[0m\n\u001b[0;32m-> 1322\u001b[0;31m         return_value = get_return_value(\n\u001b[0m\u001b[1;32m   1323\u001b[0m             answer, self.gateway_client, self.target_id, self.name)\n\u001b[1;32m   1324\u001b[0m \u001b[0;34m\u001b[0m\u001b[0m\n",
            "\u001b[0;32m/usr/local/lib/python3.9/dist-packages/pyspark/errors/exceptions/captured.py\u001b[0m in \u001b[0;36mdeco\u001b[0;34m(*a, **kw)\u001b[0m\n\u001b[1;32m    173\u001b[0m                 \u001b[0;31m# Hide where the exception came from that shows a non-Pythonic\u001b[0m\u001b[0;34m\u001b[0m\u001b[0;34m\u001b[0m\u001b[0m\n\u001b[1;32m    174\u001b[0m                 \u001b[0;31m# JVM exception message.\u001b[0m\u001b[0;34m\u001b[0m\u001b[0;34m\u001b[0m\u001b[0m\n\u001b[0;32m--> 175\u001b[0;31m                 \u001b[0;32mraise\u001b[0m \u001b[0mconverted\u001b[0m \u001b[0;32mfrom\u001b[0m \u001b[0;32mNone\u001b[0m\u001b[0;34m\u001b[0m\u001b[0;34m\u001b[0m\u001b[0m\n\u001b[0m\u001b[1;32m    176\u001b[0m             \u001b[0;32melse\u001b[0m\u001b[0;34m:\u001b[0m\u001b[0;34m\u001b[0m\u001b[0;34m\u001b[0m\u001b[0m\n\u001b[1;32m    177\u001b[0m                 \u001b[0;32mraise\u001b[0m\u001b[0;34m\u001b[0m\u001b[0;34m\u001b[0m\u001b[0m\n",
            "\u001b[0;31mIllegalArgumentException\u001b[0m: requirement failed: Column features must be of type numeric but was actually of type struct<type:tinyint,size:int,indices:array<int>,values:array<double>>."
          ]
        }
      ]
    }
  ]
}